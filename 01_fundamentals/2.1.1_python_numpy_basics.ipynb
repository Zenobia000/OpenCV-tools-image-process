{
 "cells": [
  {
   "cell_type": "markdown",
   "metadata": {},
   "source": [
    "## 安裝 Python"
   ]
  },
  {
   "cell_type": "markdown",
   "metadata": {
    "tags": []
   },
   "source": [
    "## anaconda 下載 :\n",
    "> Windows : https://www.anaconda.com/products/individual#windows<br>\n",
    "> macOS : https://www.anaconda.com/products/individual#macos"
   ]
  },
  {
   "cell_type": "markdown",
   "metadata": {},
   "source": [
    "### Jupyter 快捷鍵\n",
    "> * shift-enter: 跑程式\n",
    "> * A : 上面增加一格\n",
    "> * B : 下面增加一格\n",
    "> * C : 複製 (crtl + C)\n",
    "> * V : 貼上 (crtl + V)\n",
    "> * Z : 復原 (crtl + Z)\n",
    "> * X : 剪下 (crtl + X)\n",
    "> * shift-up & shift-down: 多個block選取\n",
    "> * M : markdown抄筆記\n",
    "> * shift + tab : param instruction\n",
    "> * tab : functions instruction"
   ]
  },
  {
   "cell_type": "markdown",
   "metadata": {},
   "source": [
    "### 在 (命令提示字元 `系統管理員`) 身分下打 pip install ....... 指令( `灌程式` )\n",
    ">### install packages\n",
    "> * pip install numpy\n",
    "> * pip install matplotlib\n",
    "> * pip install opencv-python\n",
    "> * pip install opencv-contrib-python\n",
    "> * pip install scikit-learn\n",
    "> * pip install scikit-image\n",
    "> * pip install scipy\n",
    "> * pip install imutils\n",
    "> * pip install pytesseract\n",
    "\n",
    "<div style=\"page-break-after: always\"></div>\n",
    "\n",
    "> * Windows OS :\n",
    ">> pip install dlib<br>\n",
    ">> or (pip install \"C:\\Users\\User\\Desktop\\OpenCV\\install\\dlib-19.22.99-cp39-cp39-win_amd64.whl\")\n",
    "\n",
    "> * IOS :\n",
    ">> pip install cmake<br>\n",
    ">> pip install dlib"
   ]
  },
  {
   "cell_type": "markdown",
   "metadata": {},
   "source": [
    "## 先看一段影片"
   ]
  },
  {
   "cell_type": "code",
   "execution_count": 55,
   "metadata": {
    "tags": []
   },
   "outputs": [
    {
     "data": {
      "text/html": [
       "<iframe width=\"640\" height=\"480\" \n",
       "src=\"https://www.youtube.com/embed/Fszu0L1JtqM?si=BbbCZv7ZdhY62lj1\" \n",
       "title=\"YouTube video player\" frameborder=\"0\" \n",
       "allow=\"accelerometer; autoplay; clipboard-write; encrypted-media; gyroscope; picture-in-picture; web-share\" \n",
       "allowfullscreen></iframe>\n",
       "\n",
       "# https://www.youtube.com/watch?v=Fszu0L1JtqM\n"
      ],
      "text/plain": [
       "<IPython.core.display.HTML object>"
      ]
     },
     "metadata": {},
     "output_type": "display_data"
    }
   ],
   "source": [
    "%%HTML\n",
    "<iframe width=\"640\" height=\"480\" \n",
    "src=\"https://www.youtube.com/embed/Fszu0L1JtqM?si=BbbCZv7ZdhY62lj1\" \n",
    "title=\"YouTube video player\" frameborder=\"0\" \n",
    "allow=\"accelerometer; autoplay; clipboard-write; encrypted-media; gyroscope; picture-in-picture; web-share\" \n",
    "allowfullscreen></iframe>\n",
    "\n",
    "# https://www.youtube.com/watch?v=Fszu0L1JtqM"
   ]
  },
  {
   "cell_type": "markdown",
   "metadata": {},
   "source": [
    "><img src=\"../assets/images/basic/pythonLogo.png\"  style='width:90%'></img>\n",
    "### 程式語言的成長趨勢\n",
    "><img src=\"../assets/images/basic/PythonTrend.png\"  style='width:90%'>"
   ]
  },
  {
   "cell_type": "markdown",
   "metadata": {},
   "source": [
    "<div style=\"page-break-after: always\"></div>\n",
    "\n",
    "### Top Python IDEs for Data Science in 2019\n",
    "><img src=\"../assets/images/basic/mostIde.jpg\"  style='width:90%'>"
   ]
  },
  {
   "cell_type": "markdown",
   "metadata": {},
   "source": [
    "## 0-3, Python 特色\n",
    "> * 物件導向式語言架構(Object-Oriented Program Language)\n",
    "> * 直譯式, 又稱作腳本語言(Scripting language)\n",
    "> * 省略變數類型宣告動作\n",
    "> * 自動化的記憶體管理\n",
    "> * 內建許多高階實用的資料型態, 提供許多標準函式庫及第三方套件(package)\n",
    "> * 跨平台與圖形介面延伸, 能與其他語言結合\n",
    "> * 優雅簡潔，易學易用"
   ]
  },
  {
   "cell_type": "markdown",
   "metadata": {},
   "source": [
    "### Python3.X\n",
    "> * 現在進行式同時也是未來趨勢\n",
    "> * 活絡發展中\n",
    "> * 對初學者較友善"
   ]
  },
  {
   "cell_type": "markdown",
   "metadata": {},
   "source": [
    "### jupyter try (網路版本)\n",
    "> https://jupyter.org/try\n",
    "---"
   ]
  },
  {
   "cell_type": "markdown",
   "metadata": {},
   "source": [
    "# Mod_01_Python簡介"
   ]
  },
  {
   "cell_type": "code",
   "execution_count": 56,
   "metadata": {
    "tags": []
   },
   "outputs": [
    {
     "data": {
      "text/plain": [
       "'3.10.12 (main, Aug 15 2025, 14:32:43) [GCC 11.4.0]'"
      ]
     },
     "execution_count": 56,
     "metadata": {},
     "output_type": "execute_result"
    }
   ],
   "source": [
    "import sys\n",
    "sys.version"
   ]
  },
  {
   "cell_type": "markdown",
   "metadata": {},
   "source": [
    "## check numpy, pandas & matplotlib"
   ]
  },
  {
   "cell_type": "code",
   "execution_count": 57,
   "metadata": {
    "tags": []
   },
   "outputs": [
    {
     "name": "stdout",
     "output_type": "stream",
     "text": [
      "python ver.\t: 3.10.12 (main, Aug 15 2025, 14:32:43) [GCC 11.4.0]\n",
      "\n",
      "cv2 ver.\t: 4.12.0\n",
      "\t\t: /home/sunny/python_workstation/github/OpenCV-tools-image-process/.venv/lib/python3.10/site-packages/cv2/__init__.py\n",
      "\n",
      "numpy ver.\t: 2.2.6\n",
      "\t\t: /home/sunny/python_workstation/github/OpenCV-tools-image-process/.venv/lib/python3.10/site-packages/numpy/__init__.py\n",
      "\n",
      "matplotlib ver.\t: 3.10.7\n",
      "\t\t: /home/sunny/python_workstation/github/OpenCV-tools-image-process/.venv/lib/python3.10/site-packages/matplotlib/__init__.py\n",
      "\n",
      "dlib ver.\t: 20.0.0\n",
      "\t\t: /home/sunny/python_workstation/github/OpenCV-tools-image-process/.venv/lib/python3.10/site-packages/dlib/__init__.py\n",
      "\n",
      "skimage ver.\t: 0.25.2\n",
      "\t\t:  /home/sunny/python_workstation/github/OpenCV-tools-image-process/.venv/lib/python3.10/site-packages/skimage/__init__.py\n",
      "\n",
      "sklearn ver.\t: 1.7.2\n",
      "\t\t:  /home/sunny/python_workstation/github/OpenCV-tools-image-process/.venv/lib/python3.10/site-packages/sklearn/__init__.py\n",
      "\n",
      "\n"
     ]
    }
   ],
   "source": [
    "import cv2\n",
    "import numpy as np\n",
    "import dlib\n",
    "import sys\n",
    "import matplotlib\n",
    "from matplotlib import pyplot as plt\n",
    "import skimage\n",
    "import sklearn\n",
    "print(f'python ver.\\t: {sys.version}\\n\\n'\n",
    "      f'cv2 ver.\\t: {cv2.__version__}\\n\\t\\t: {cv2.__file__}\\n\\n'\n",
    "      f'numpy ver.\\t: {np.__version__}\\n\\t\\t: {np.__file__}\\n\\n'\n",
    "      f'matplotlib ver.\\t: {matplotlib.__version__}\\n\\t\\t: {matplotlib.__file__}\\n\\n'\n",
    "      f'dlib ver.\\t: {dlib.__version__}\\n\\t\\t: {dlib.__file__}\\n\\n'\n",
    "      f'skimage ver.\\t: {skimage.__version__}\\n\\t\\t:  {skimage.__file__}\\n\\n'\n",
    "      f'sklearn ver.\\t: {sklearn.__version__}\\n\\t\\t:  {sklearn.__file__}\\n\\n')"
   ]
  },
  {
   "cell_type": "markdown",
   "metadata": {},
   "source": [
    "## 1-1 on-line help : shift + tab"
   ]
  },
  {
   "cell_type": "code",
   "execution_count": 58,
   "metadata": {},
   "outputs": [
    {
     "name": "stdout",
     "output_type": "stream",
     "text": [
      "Help on built-in function print in module builtins:\n",
      "\n",
      "print(...)\n",
      "    print(value, ..., sep=' ', end='\\n', file=sys.stdout, flush=False)\n",
      "    \n",
      "    Prints the values to a stream, or to sys.stdout by default.\n",
      "    Optional keyword arguments:\n",
      "    file:  a file-like object (stream); defaults to the current sys.stdout.\n",
      "    sep:   string inserted between values, default a space.\n",
      "    end:   string appended after the last value, default a newline.\n",
      "    flush: whether to forcibly flush the stream.\n",
      "\n"
     ]
    }
   ],
   "source": [
    "help(print)  # shift + tab,  see whatever you want to check.  change 'len' in quotation."
   ]
  },
  {
   "cell_type": "code",
   "execution_count": 59,
   "metadata": {},
   "outputs": [
    {
     "name": "stdout",
     "output_type": "stream",
     "text": [
      "\u001b[0;31mSignature:\u001b[0m \u001b[0mlen\u001b[0m\u001b[0;34m(\u001b[0m\u001b[0mobj\u001b[0m\u001b[0;34m,\u001b[0m \u001b[0;34m/\u001b[0m\u001b[0;34m)\u001b[0m\u001b[0;34m\u001b[0m\u001b[0;34m\u001b[0m\u001b[0m\n",
      "\u001b[0;31mDocstring:\u001b[0m Return the number of items in a container.\n",
      "\u001b[0;31mType:\u001b[0m      builtin_function_or_method"
     ]
    }
   ],
   "source": [
    "len?"
   ]
  },
  {
   "cell_type": "code",
   "execution_count": 60,
   "metadata": {},
   "outputs": [
    {
     "name": "stdout",
     "output_type": "stream",
     "text": [
      "['False', 'None', 'True', 'and', 'as', 'assert', 'async', 'await', 'break', 'class', 'continue', 'def', 'del', 'elif', 'else', 'except', 'finally', 'for', 'from', 'global', 'if', 'import', 'in', 'is', 'lambda', 'nonlocal', 'not', 'or', 'pass', 'raise', 'return', 'try', 'while', 'with', 'yield']\n"
     ]
    }
   ],
   "source": [
    "import keyword\n",
    "print(keyword.kwlist)"
   ]
  },
  {
   "cell_type": "code",
   "execution_count": 61,
   "metadata": {},
   "outputs": [
    {
     "name": "stdout",
     "output_type": "stream",
     "text": [
      "50\n"
     ]
    }
   ],
   "source": [
    "print(50)"
   ]
  },
  {
   "cell_type": "code",
   "execution_count": 62,
   "metadata": {},
   "outputs": [
    {
     "data": {
      "text/plain": [
       "'John'"
      ]
     },
     "execution_count": 62,
     "metadata": {},
     "output_type": "execute_result"
    }
   ],
   "source": [
    "name = 'John'\n",
    "name"
   ]
  },
  {
   "cell_type": "code",
   "execution_count": 63,
   "metadata": {},
   "outputs": [
    {
     "data": {
      "text/plain": [
       "477.5"
      ]
     },
     "execution_count": 63,
     "metadata": {},
     "output_type": "execute_result"
    }
   ],
   "source": [
    "miles = 477.5\n",
    "miles"
   ]
  },
  {
   "cell_type": "code",
   "execution_count": 64,
   "metadata": {},
   "outputs": [
    {
     "name": "stdout",
     "output_type": "stream",
     "text": [
      "1 2.0 John\n"
     ]
    },
    {
     "data": {
      "text/plain": [
       "(1, 2.0, 'John')"
      ]
     },
     "execution_count": 64,
     "metadata": {},
     "output_type": "execute_result"
    }
   ],
   "source": [
    "a, b, c = 1, 2., 'John'\n",
    "print(a, b, c)\n",
    "a, b, c  # tuple"
   ]
  },
  {
   "cell_type": "code",
   "execution_count": 65,
   "metadata": {},
   "outputs": [
    {
     "name": "stdout",
     "output_type": "stream",
     "text": [
      "7\n",
      "7\n",
      "46\n",
      "81\n",
      "4.5\n",
      "4\n",
      "-5\n"
     ]
    }
   ],
   "source": [
    "print(+7); print(++7)\n",
    "print(12+34)\n",
    "print(9**2)\n",
    "print(9/2)\n",
    "print(9//2)    # 整數除法\n",
    "print(-9//2)   # ??? what happen??  地板式整除"
   ]
  },
  {
   "cell_type": "code",
   "execution_count": 66,
   "metadata": {},
   "outputs": [
    {
     "name": "stdout",
     "output_type": "stream",
     "text": [
      "17*6\t= 102\n",
      "\n",
      "17*6\t= 102 \t17%6 =  5\n"
     ]
    }
   ],
   "source": [
    "print('17*6\\t=', 17*6)\n",
    "print()        # 下一行\n",
    "print('17*6\\t=', 17*6, '\\t17%6 = ', 17%6)"
   ]
  },
  {
   "cell_type": "code",
   "execution_count": 67,
   "metadata": {},
   "outputs": [
    {
     "data": {
      "text/plain": [
       "1.6666666666666667"
      ]
     },
     "execution_count": 67,
     "metadata": {},
     "output_type": "execute_result"
    }
   ],
   "source": [
    "a = 5; b = 3; a = a/b\n",
    "a"
   ]
  },
  {
   "cell_type": "code",
   "execution_count": 68,
   "metadata": {},
   "outputs": [
    {
     "data": {
      "text/plain": [
       "7"
      ]
     },
     "execution_count": 68,
     "metadata": {},
     "output_type": "execute_result"
    }
   ],
   "source": [
    "a = 5; b = 2\n",
    "a = a + b   #a += b\n",
    "a"
   ]
  },
  {
   "cell_type": "code",
   "execution_count": 69,
   "metadata": {},
   "outputs": [
    {
     "data": {
      "text/plain": [
       "(2, 5)"
      ]
     },
     "execution_count": 69,
     "metadata": {},
     "output_type": "execute_result"
    }
   ],
   "source": [
    "a=5; b=2\n",
    "a, b = b, a\n",
    "a, b    "
   ]
  },
  {
   "cell_type": "markdown",
   "metadata": {},
   "source": [
    "## 1-2 Comparison Operators"
   ]
  },
  {
   "cell_type": "code",
   "execution_count": 70,
   "metadata": {},
   "outputs": [
    {
     "name": "stdout",
     "output_type": "stream",
     "text": [
      "False\n",
      "True\n",
      "True\n",
      "False\n",
      "True\n",
      "False\n"
     ]
    }
   ],
   "source": [
    "a = 5;  b = 3\n",
    "\n",
    "print(a == b)\n",
    "print(a != b)\n",
    "print(a > b)\n",
    "print(a < b)\n",
    "print(a >= b)\n",
    "print(a <= b)"
   ]
  },
  {
   "cell_type": "code",
   "execution_count": 71,
   "metadata": {},
   "outputs": [
    {
     "name": "stdout",
     "output_type": "stream",
     "text": [
      "x == 2\t: True\n",
      "x != 2\t: False\n",
      "x < 5\t: True\n",
      "x > 2\t: False\n",
      "x <= 2\t: True\n",
      "x >= 2\t: True\n"
     ]
    }
   ],
   "source": [
    "x = 2\n",
    "print('x == 2\\t:', x == 2)\n",
    "print('x != 2\\t:', x != 2)\n",
    "print('x < 5\\t:', x < 5)\n",
    "print('x > 2\\t:', x > 2)\n",
    "print('x <= 2\\t:', x <= 2)\n",
    "print('x >= 2\\t:', x >= 2)"
   ]
  },
  {
   "cell_type": "markdown",
   "metadata": {},
   "source": [
    "## 1-3 Assignment Operators"
   ]
  },
  {
   "cell_type": "code",
   "execution_count": 72,
   "metadata": {},
   "outputs": [
    {
     "name": "stdout",
     "output_type": "stream",
     "text": [
      "8\n",
      "3\n",
      "6\n",
      "3.0\n"
     ]
    }
   ],
   "source": [
    "a = 5\n",
    "\n",
    "a = a + 3; print(a)  # a+=3\n",
    "a = a - 5; print(a)  # a-=3\n",
    "a = a * 2; print(a)  # a*=3\n",
    "a = a / 2; print(a)  # a/=3"
   ]
  },
  {
   "cell_type": "markdown",
   "metadata": {},
   "source": [
    "## 1-4 Logical Operators"
   ]
  },
  {
   "cell_type": "markdown",
   "metadata": {},
   "source": [
    "> Python no Boolean.  It is `整數的子型態` (subtype of integers)<br>\n",
    "> True = 1, False = 0"
   ]
  },
  {
   "cell_type": "markdown",
   "metadata": {},
   "source": [
    ">### 4-3 真值表 (Truth Table)\n",
    "><img src=\"../assets/images/basic/truth_table.png\"  style='width:100%'>"
   ]
  },
  {
   "cell_type": "code",
   "execution_count": 73,
   "metadata": {},
   "outputs": [
    {
     "data": {
      "text/plain": [
       "2"
      ]
     },
     "execution_count": 73,
     "metadata": {},
     "output_type": "execute_result"
    }
   ],
   "source": [
    "1 + True"
   ]
  },
  {
   "cell_type": "code",
   "execution_count": 74,
   "metadata": {},
   "outputs": [
    {
     "data": {
      "text/plain": [
       "1"
      ]
     },
     "execution_count": 74,
     "metadata": {},
     "output_type": "execute_result"
    }
   ],
   "source": [
    "1 + False"
   ]
  },
  {
   "cell_type": "code",
   "execution_count": 75,
   "metadata": {},
   "outputs": [
    {
     "data": {
      "text/plain": [
       "6"
      ]
     },
     "execution_count": 75,
     "metadata": {},
     "output_type": "execute_result"
    }
   ],
   "source": [
    "True + True*5"
   ]
  },
  {
   "cell_type": "code",
   "execution_count": 76,
   "metadata": {},
   "outputs": [
    {
     "name": "stdout",
     "output_type": "stream",
     "text": [
      "False\n"
     ]
    }
   ],
   "source": [
    "a = True;  b = False\n",
    "print(a and b)"
   ]
  },
  {
   "cell_type": "code",
   "execution_count": 77,
   "metadata": {},
   "outputs": [
    {
     "name": "stdout",
     "output_type": "stream",
     "text": [
      "True\n"
     ]
    }
   ],
   "source": [
    "print(a or b)"
   ]
  },
  {
   "cell_type": "code",
   "execution_count": 78,
   "metadata": {},
   "outputs": [
    {
     "name": "stdout",
     "output_type": "stream",
     "text": [
      "False\n"
     ]
    }
   ],
   "source": [
    "print(not a)"
   ]
  },
  {
   "cell_type": "markdown",
   "metadata": {},
   "source": [
    "## 1-5 Membership Operators"
   ]
  },
  {
   "cell_type": "code",
   "execution_count": 79,
   "metadata": {},
   "outputs": [
    {
     "data": {
      "text/plain": [
       "True"
      ]
     },
     "execution_count": 79,
     "metadata": {},
     "output_type": "execute_result"
    }
   ],
   "source": [
    "a = 5;  b = [1, 2, 3, 5, 6]\n",
    "a in b"
   ]
  },
  {
   "cell_type": "code",
   "execution_count": 80,
   "metadata": {},
   "outputs": [
    {
     "name": "stdout",
     "output_type": "stream",
     "text": [
      "False\n"
     ]
    }
   ],
   "source": [
    "print(a not in b)"
   ]
  },
  {
   "cell_type": "markdown",
   "metadata": {},
   "source": [
    "## 1-6 Bitwise Operators"
   ]
  },
  {
   "cell_type": "markdown",
   "metadata": {},
   "source": [
    "><img src=\"../assets/images/basic/binary01.png\"  style='width:90%'>"
   ]
  },
  {
   "cell_type": "code",
   "execution_count": 81,
   "metadata": {},
   "outputs": [
    {
     "name": "stdout",
     "output_type": "stream",
     "text": [
      "1010\n",
      " 100\n",
      "0\n",
      "14\n",
      "14\n"
     ]
    }
   ],
   "source": [
    "a = 10;  b = 4\n",
    "print(f'{a:b}\\n{4:4b}')\n",
    "print(a & b)  # and\n",
    "print(a | b)  # or\n",
    "print(a ^ b)  # XOR"
   ]
  },
  {
   "cell_type": "code",
   "execution_count": 82,
   "metadata": {},
   "outputs": [
    {
     "name": "stdout",
     "output_type": "stream",
     "text": [
      "1010\n",
      "2\n",
      "bin : 10\n",
      "40\n",
      "bin : 101000\n"
     ]
    }
   ],
   "source": [
    "a = 10\n",
    "print(f'{10:b}\\n'\n",
    "      f'{a >> 2}\\n'\n",
    "      f'bin : {a >> 2:b}\\n'\n",
    "      f'{a << 2}\\n'\n",
    "      f'bin : {a << 2:b}') "
   ]
  },
  {
   "cell_type": "markdown",
   "metadata": {},
   "source": [
    "## 1-7 Integer, float, complex"
   ]
  },
  {
   "cell_type": "code",
   "execution_count": 83,
   "metadata": {},
   "outputs": [
    {
     "name": "stdout",
     "output_type": "stream",
     "text": [
      "a = (5, <class 'int'>)\n",
      "b = (3.1, <class 'float'>)\n",
      "c = (3.0, <class 'float'>)\n",
      "d = ((1+2j), <class 'complex'>)\n",
      "f = (3123.2, <class 'float'>)\n"
     ]
    }
   ],
   "source": [
    "a = 5; b = 3.1; c = 3.0; d = 1+2j; f = 3.1232e3\n",
    "\n",
    "print(f'a = {a, type(a)}\\n'\n",
    "      f'b = {b, type(b)}\\n'\n",
    "      f'c = {c, type(c)}\\n'\n",
    "      f'd = {d, type(d)}\\n'\n",
    "      f'f = {f, type(f)}')"
   ]
  },
  {
   "cell_type": "code",
   "execution_count": 84,
   "metadata": {},
   "outputs": [
    {
     "name": "stdout",
     "output_type": "stream",
     "text": [
      "int(12.6)\t: 12\n",
      "str(12.6)\t: 12.6\n",
      "float(12)\t: 12.0\n",
      "complex(12)\t: (12+0j)\n",
      "complex(12,3)\t: (12+3j)\n"
     ]
    },
    {
     "data": {
      "text/plain": [
       "'12.6'"
      ]
     },
     "execution_count": 84,
     "metadata": {},
     "output_type": "execute_result"
    }
   ],
   "source": [
    "print('int(12.6)\\t:', int(12.6))\n",
    "print('str(12.6)\\t:', str(12.6))\n",
    "print('float(12)\\t:', float(12))\n",
    "print('complex(12)\\t:', complex(12))\n",
    "print('complex(12,3)\\t:', complex(12, 3))\n",
    "str(12.6)"
   ]
  },
  {
   "cell_type": "markdown",
   "metadata": {},
   "source": [
    "## 1-8 Boolean "
   ]
  },
  {
   "cell_type": "code",
   "execution_count": 85,
   "metadata": {},
   "outputs": [
    {
     "name": "stdout",
     "output_type": "stream",
     "text": [
      "True\n",
      "True\n",
      "False\n",
      "True\n",
      "False\n"
     ]
    }
   ],
   "source": [
    "print(5 > 3)\n",
    "print(5 != 3)\n",
    "print(5 < 3)\n",
    "print(bool(5%3))\n",
    "print(bool([]))"
   ]
  },
  {
   "cell_type": "markdown",
   "metadata": {},
   "source": [
    "## 1-9 String"
   ]
  },
  {
   "cell_type": "markdown",
   "metadata": {},
   "source": [
    "><img src=\"../assets/images/basic/strIndex01.png\"  style='width:90%'>"
   ]
  },
  {
   "cell_type": "markdown",
   "metadata": {},
   "source": [
    ">### 切片 (slice) 格式為 `[起點 : 終點 : 間隔]` 不含`終點`"
   ]
  },
  {
   "cell_type": "code",
   "execution_count": 86,
   "metadata": {},
   "outputs": [
    {
     "name": "stdout",
     "output_type": "stream",
     "text": [
      "h e l l o\n",
      "============\n",
      "o l l e h\n"
     ]
    }
   ],
   "source": [
    "## this is a string\n",
    "a = 'hello'\n",
    "print(a[0], a[1], a[2], a[3], a[4])\n",
    "print('='*12)\n",
    "print(a[-1], a[-2], a[-3], a[-4], a[-5])"
   ]
  },
  {
   "cell_type": "code",
   "execution_count": 87,
   "metadata": {},
   "outputs": [
    {
     "name": "stdout",
     "output_type": "stream",
     "text": [
      "llo\n",
      "lo\n",
      "hellohello\n",
      "5\n",
      "olleh\n"
     ]
    }
   ],
   "source": [
    "print(a[2:])\n",
    "print(a[2::2])\n",
    "print(a*2)\n",
    "print(len(a))\n",
    "print(a[::-1])  # reverse"
   ]
  },
  {
   "cell_type": "code",
   "execution_count": 88,
   "metadata": {},
   "outputs": [
    {
     "name": "stdout",
     "output_type": "stream",
     "text": [
      "hello Python\n"
     ]
    }
   ],
   "source": [
    "b = 'Python'\n",
    "print(a+' '+b)"
   ]
  },
  {
   "cell_type": "code",
   "execution_count": 89,
   "metadata": {},
   "outputs": [
    {
     "name": "stdout",
     "output_type": "stream",
     "text": [
      "l\t\t\t: Hello, I am Python!\n",
      "upper\t\t\t: HELLO, I AM PYTHON!\n",
      "lower\t\t\t: hello, i am python!\n",
      "capitalize\t\t: Hello, i am python!\n",
      "title\t\t\t: Hello, I Am Python!\n",
      "swapcase\t\t: hELLO, i AM pYTHON!\n",
      "\n",
      "endswith(\"on!\")\t\t: True\n",
      "startswith(\"the\")\t: False\n"
     ]
    }
   ],
   "source": [
    "l = 'Hello, I am Python!'\n",
    "print(f'l\\t\\t\\t: {l}')\n",
    "print(f'upper\\t\\t\\t: {l.upper()}')\n",
    "print(f'lower\\t\\t\\t: {l.lower()}')\n",
    "print(f'capitalize\\t\\t: {l.capitalize()}')\n",
    "print(f'title\\t\\t\\t: {l.title()}')\n",
    "print(f'swapcase\\t\\t: {l.swapcase()}\\n')  # upper -> lower,  lower -> upper\n",
    "\n",
    "print(f'endswith(\"on!\")\\t\\t: {l.endswith(\"on!\")}')        #True\n",
    "print(f'startswith(\"the\")\\t: {l.startswith(\"the\")}')    #False"
   ]
  },
  {
   "cell_type": "code",
   "execution_count": 90,
   "metadata": {},
   "outputs": [
    {
     "name": "stdout",
     "output_type": "stream",
     "text": [
      "['Hello,', 'I', 'am', 'Python!']\n",
      "Hello, I am Python!\n"
     ]
    }
   ],
   "source": [
    "my_string = 'Hello, I am Python!'\n",
    "\n",
    "print(my_string.split(' '))\n",
    "print(' '.join(my_string.split(' ')))"
   ]
  },
  {
   "cell_type": "code",
   "execution_count": 91,
   "metadata": {},
   "outputs": [
    {
     "name": "stdout",
     "output_type": "stream",
     "text": [
      "   Hello, I am Python! \n",
      " Hello, I am Python!\n"
     ]
    }
   ],
   "source": [
    "my_string = '   Hello, I am Python!'\n",
    "print(my_string,'\\n', my_string.strip())"
   ]
  },
  {
   "cell_type": "markdown",
   "metadata": {},
   "source": [
    "---"
   ]
  },
  {
   "cell_type": "markdown",
   "metadata": {},
   "source": [
    "<div style=\"page-break-after: always\"></div>\n",
    "\n",
    "## 1-10 List 串列"
   ]
  },
  {
   "cell_type": "markdown",
   "metadata": {},
   "source": [
    ">### `list 與 array 不同`"
   ]
  },
  {
   "cell_type": "code",
   "execution_count": 92,
   "metadata": {},
   "outputs": [
    {
     "name": "stdout",
     "output_type": "stream",
     "text": [
      "apple\n",
      "10.4\n",
      "(1-3j)\n",
      "[1, 3, -2, 8, 9, -10, 1, 3, -2, 8, 9, -10, 1, 3, -2, 8, 9, -10]\n"
     ]
    }
   ],
   "source": [
    "## this is a list\n",
    "a = ['apple', 10.4, 1-3j]\n",
    "b = [1, 3, -2, 8, 9, -10]\n",
    "print(a[0])\n",
    "print(a[1])\n",
    "print(a[-1])\n",
    "print(b*3)"
   ]
  },
  {
   "cell_type": "markdown",
   "metadata": {},
   "source": [
    ">### index\n",
    "><img src=\"../assets/images/basic/list.png\"  style='width:90%'>"
   ]
  },
  {
   "cell_type": "markdown",
   "metadata": {},
   "source": [
    ">## index, slice"
   ]
  },
  {
   "cell_type": "code",
   "execution_count": 93,
   "metadata": {},
   "outputs": [
    {
     "name": "stdout",
     "output_type": "stream",
     "text": [
      "names\t\t\t\t= ['fraser', 'grace', 'john', 'jess', 'jack', 23.5, 2019]\n",
      "names[0]\t\t\t: fraser\n",
      "names[0][0]\t\t\t: f \n",
      "\n",
      "names[5]\t\t\t: 23.5\n",
      "names[-1]\t\t\t: 2019 \n",
      "\n",
      "names[1:5]\t\t\t: ['grace', 'john', 'jess', 'jack']\n",
      "names[1:6:2]\t\t\t: ['grace', 'jess', 23.5] \n",
      "\n",
      "names[2]='Kevin'\t\t: ['fraser', 'grace', 'Kevin', 'jess', 'jack', 23.5, 2019]\n",
      "names[-1:]=[2000, 23.5]\t\t: ['fraser', 'grace', 'Kevin', 'jess', 'jack', 23.5, 2000, 23.5]\n"
     ]
    }
   ],
   "source": [
    "names=['fraser', 'grace', 'john', 'jess', 'jack', 23.5, 2019]\n",
    "print('names\\t\\t\\t\\t=', names)\n",
    "print('names[0]\\t\\t\\t:', names[0])\n",
    "print('names[0][0]\\t\\t\\t:', names[0][0], '\\n')\n",
    "\n",
    "print('names[5]\\t\\t\\t:', names[5])\n",
    "print('names[-1]\\t\\t\\t:', names[-1],'\\n')\n",
    "\n",
    "print('names[1:5]\\t\\t\\t:', names[1:5])\n",
    "print('names[1:6:2]\\t\\t\\t:', (names[1:6:2]),'\\n')\n",
    "\n",
    "names[2]='Kevin'\n",
    "print(\"names[2]='Kevin'\\t\\t:\", names)             # 修改\n",
    "\n",
    "names[-1:]=[2000, 23.5]                           # 一次改兩筆資料\n",
    "print('names[-1:]=[2000, 23.5]\\t\\t:', names)"
   ]
  },
  {
   "cell_type": "code",
   "execution_count": 94,
   "metadata": {},
   "outputs": [
    {
     "data": {
      "text/plain": [
       "[1, 2, 3, 4, 5, 6]"
      ]
     },
     "execution_count": 94,
     "metadata": {},
     "output_type": "execute_result"
    }
   ],
   "source": [
    "[1, 2, 3] + [4, 5, 6]"
   ]
  },
  {
   "cell_type": "code",
   "execution_count": 95,
   "metadata": {},
   "outputs": [
    {
     "name": "stdout",
     "output_type": "stream",
     "text": [
      "lst\t\t\t\t= [20, 10, 30]\n",
      "max(lst)\t\t\t: 30\n",
      "min(lst)\t\t\t: 10\n",
      "sum(lst)\t\t\t: 60\n",
      "sorted(lst)\t\t\t: [10, 20, 30]\n",
      "sorted(lst, reverse=True)\t: [30, 20, 10]\n"
     ]
    }
   ],
   "source": [
    "x, y, z=20, 10, 30\n",
    "lst=[x, y, z]\n",
    "\n",
    "print('lst\\t\\t\\t\\t=', lst)\n",
    "print('max(lst)\\t\\t\\t:', max(lst))\n",
    "print('min(lst)\\t\\t\\t:', min(lst))\n",
    "print('sum(lst)\\t\\t\\t:', sum(lst))\n",
    "print('sorted(lst)\\t\\t\\t:', sorted(lst))\n",
    "print('sorted(lst, reverse=True)\\t:', sorted(lst, reverse=True))"
   ]
  },
  {
   "cell_type": "code",
   "execution_count": 96,
   "metadata": {},
   "outputs": [
    {
     "name": "stdout",
     "output_type": "stream",
     "text": [
      "[1, 3, -2, 8, 9, -10, 20]\n",
      "[1, -2, 8, 9, -10, 20]\n",
      "[1, -2, 8, 9, -10]\n",
      "[1, 100, -2, 8, 9, -10]\n",
      "[-10, 9, 8, -2, 100, 1]\n",
      "[-10, -2, 1, 8, 9, 100]\n",
      "1\n"
     ]
    }
   ],
   "source": [
    "x = ['apple', 10.4, 1-3j]\n",
    "y = [1, 3, -2, 8, 9, -10]\n",
    "y.append(20);     print(y)\n",
    "y.remove(3);      print(y)\n",
    "y.pop();          print(y)\n",
    "y.insert(1, 100); print(y)\n",
    "y.reverse();      print(y)\n",
    "y.sort();         print(y)\n",
    "print(y.count(-2))"
   ]
  },
  {
   "cell_type": "code",
   "execution_count": 97,
   "metadata": {},
   "outputs": [
    {
     "name": "stdout",
     "output_type": "stream",
     "text": [
      "[1, 30, -7, 9, -10]\n"
     ]
    }
   ],
   "source": [
    "c = [1, 30, -2, -7, 9, -10]\n",
    "del c[2]\n",
    "print(c)"
   ]
  },
  {
   "cell_type": "code",
   "execution_count": 98,
   "metadata": {},
   "outputs": [
    {
     "name": "stdout",
     "output_type": "stream",
     "text": [
      "isaac @ judy @ amy\n"
     ]
    }
   ],
   "source": [
    "c = ['isaac', 'judy', 'amy']\n",
    "c_string = ' @ '.join(c)\n",
    "print(c_string)"
   ]
  },
  {
   "cell_type": "markdown",
   "metadata": {},
   "source": [
    "## 1-11 Dictionary"
   ]
  },
  {
   "cell_type": "code",
   "execution_count": 99,
   "metadata": {},
   "outputs": [
    {
     "name": "stdout",
     "output_type": "stream",
     "text": [
      "100\n",
      "dict_values([100, 60, 80])\n",
      "dict_keys(['Robert', 'judy', 'Andy'])\n"
     ]
    }
   ],
   "source": [
    "a = {'Robert':100, 'judy':60, 'Andy':80}\n",
    "print(a['Robert'])\n",
    "print(a.values())\n",
    "print(a.keys())"
   ]
  },
  {
   "cell_type": "code",
   "execution_count": 100,
   "metadata": {},
   "outputs": [
    {
     "name": "stdout",
     "output_type": "stream",
     "text": [
      "{'Robert': 100, 'judy': 60, 'Andy': 90, 'joe': 30, 'amy': 16}\n"
     ]
    }
   ],
   "source": [
    "new_key = {'joe':30, 'amy':16, 'Andy':90}   # Andy 80 -> 90\n",
    "a.update(new_key)\n",
    "print(a)"
   ]
  },
  {
   "cell_type": "code",
   "execution_count": 101,
   "metadata": {},
   "outputs": [
    {
     "name": "stdout",
     "output_type": "stream",
     "text": [
      "{'Robert': 100, 'judy': 60, 'Andy': 90, 'joe': 30}\n"
     ]
    }
   ],
   "source": [
    "a.pop('amy', None)\n",
    "print(a)"
   ]
  },
  {
   "cell_type": "markdown",
   "metadata": {},
   "source": [
    "## 1-12 程式的流程控制-條件判斷 if...else"
   ]
  },
  {
   "cell_type": "code",
   "execution_count": 102,
   "metadata": {},
   "outputs": [
    {
     "name": "stdout",
     "output_type": "stream",
     "text": [
      "False\n"
     ]
    }
   ],
   "source": [
    "if 0:\n",
    "    print('True')\n",
    "else:\n",
    "    print('False')"
   ]
  },
  {
   "cell_type": "code",
   "execution_count": 103,
   "metadata": {},
   "outputs": [
    {
     "name": "stdout",
     "output_type": "stream",
     "text": [
      "x != 3\n"
     ]
    }
   ],
   "source": [
    "x = 4\n",
    "if x == 3:\n",
    "    print ('x = 3')\n",
    "else :\n",
    "    print ('x != 3')"
   ]
  },
  {
   "cell_type": "code",
   "execution_count": 104,
   "metadata": {},
   "outputs": [
    {
     "name": "stdout",
     "output_type": "stream",
     "text": [
      "Answer\n",
      "True\n",
      "False\n"
     ]
    }
   ],
   "source": [
    "# 以下區塊會產生錯誤\n",
    "if True:\n",
    "    print('Answer')\n",
    "    print('True')\n",
    "else:\n",
    "    print('Answer')\n",
    "print('False')"
   ]
  },
  {
   "cell_type": "code",
   "execution_count": 105,
   "metadata": {},
   "outputs": [
    {
     "name": "stdout",
     "output_type": "stream",
     "text": [
      "Pass!\n"
     ]
    }
   ],
   "source": [
    "s = 60\n",
    "\n",
    "if s >= 60:\n",
    "    print('Pass!')\n",
    "else:\n",
    "    print('Not pass!')"
   ]
  },
  {
   "cell_type": "code",
   "execution_count": 106,
   "metadata": {},
   "outputs": [
    {
     "name": "stdout",
     "output_type": "stream",
     "text": [
      "a is a number\n"
     ]
    }
   ],
   "source": [
    "a = 2\n",
    "if a==1:\n",
    "    print('a is 1')\n",
    "print('a is a number')  # 這個 print在 if 之外"
   ]
  },
  {
   "cell_type": "code",
   "execution_count": 107,
   "metadata": {},
   "outputs": [
    {
     "name": "stdout",
     "output_type": "stream",
     "text": [
      "lst\t\t\t=  []\n",
      "False == bool(lst))\t: True\n",
      "False == bool(None)\t: True\n",
      "False == 0\t\t: True\n"
     ]
    }
   ],
   "source": [
    "lst = [11, 22]\n",
    "lst.clear()  # [], False, [] == False\n",
    "\n",
    "print('lst\\t\\t\\t= ', lst)  # empty list\n",
    "print('False == bool(lst))\\t:', False == bool(lst))\n",
    "print('False == bool(None)\\t:', False == bool(None))\n",
    "print('False == 0\\t\\t:', False == 0)"
   ]
  },
  {
   "cell_type": "code",
   "execution_count": 108,
   "metadata": {},
   "outputs": [
    {
     "name": "stdout",
     "output_type": "stream",
     "text": [
      "False == 0.0\t\t: True\n",
      "False == bool(())\t: True\n",
      "False == bool({})\t: True\n"
     ]
    }
   ],
   "source": [
    "print('False == 0.0\\t\\t:', False == 0.0)\n",
    "print('False == bool(())\\t:', False == bool(()))  # empty tuple\n",
    "print('False == bool({})\\t:', False == bool({}))  # empty dictionary"
   ]
  },
  {
   "cell_type": "code",
   "execution_count": 109,
   "metadata": {},
   "outputs": [
    {
     "name": "stdout",
     "output_type": "stream",
     "text": [
      "None, False\n"
     ]
    }
   ],
   "source": [
    "a = ()  # same if a :\n",
    "\n",
    "if a :  # try [], {}, None, False, ''\n",
    "    print ('True')\n",
    "else :\n",
    "    print('None, False')"
   ]
  },
  {
   "cell_type": "code",
   "execution_count": 110,
   "metadata": {},
   "outputs": [
    {
     "name": "stdout",
     "output_type": "stream",
     "text": [
      "True expr 1 :  100\n",
      "var1 Finished!\n",
      "var2 Finished!\n"
     ]
    }
   ],
   "source": [
    "var1 =  100\n",
    "if var1: \n",
    "    print('True expr 1 : ', var1) \n",
    "print('var1 Finished!')\n",
    "# -------------------------------    \n",
    "var2 = 0 \n",
    "if var2: \n",
    "    print('True expr 2 : ', var2) \n",
    "    \n",
    "print('var2 Finished!')"
   ]
  },
  {
   "cell_type": "markdown",
   "metadata": {},
   "source": [
    "### if ... else ..."
   ]
  },
  {
   "cell_type": "code",
   "execution_count": 111,
   "metadata": {},
   "outputs": [
    {
     "name": "stdout",
     "output_type": "stream",
     "text": [
      "Discount 45.0\n"
     ]
    }
   ],
   "source": [
    "amt = 900\n",
    "if amt < 1000:\n",
    "    discount = amt * 0.05\n",
    "    print('Discount', discount)\n",
    "else:\n",
    "    discount = amt * 0.10\n",
    "    print('Discount', discount)"
   ]
  },
  {
   "cell_type": "markdown",
   "metadata": {},
   "source": [
    "### if ... elif ... else"
   ]
  },
  {
   "cell_type": "code",
   "execution_count": 113,
   "metadata": {},
   "outputs": [
    {
     "name": "stdout",
     "output_type": "stream",
     "text": [
      "Discount: 1.0\n",
      "Net price: 19.0\n"
     ]
    }
   ],
   "source": [
    "amt = int(input('Enter amount: '))\n",
    "\n",
    "if amt < 1000:\n",
    "    discount = amt * 0.05\n",
    "    print('Discount:', discount)\n",
    "elif amt < 5000:\n",
    "    discount = amt * 0.10\n",
    "    print('Discount:', discount)\n",
    "elif amt < 10000:\n",
    "    discount = amt * 0.15\n",
    "    print('Discount:', discount)\n",
    "else:\n",
    "    discount = amt * 0.20\n",
    "    print('Discount:', discount)\n",
    "\n",
    "print('Net price:', amt - discount)"
   ]
  },
  {
   "cell_type": "markdown",
   "metadata": {},
   "source": [
    "## 1-13 for loop\n",
    "> `迭代` :　是程式中對一組指令（或一定步驟）的重複。它既可以被用作通用的術語（與「重複」同義）"
   ]
  },
  {
   "cell_type": "code",
   "execution_count": 114,
   "metadata": {},
   "outputs": [
    {
     "name": "stdout",
     "output_type": "stream",
     "text": [
      "6\n",
      "5\n",
      "15\n",
      "3\n",
      "2\n",
      "10\n"
     ]
    }
   ],
   "source": [
    "for i in [6, 5, 15, 3, 2, 10]:\n",
    "    print(i)"
   ]
  },
  {
   "cell_type": "code",
   "execution_count": 115,
   "metadata": {},
   "outputs": [
    {
     "name": "stdout",
     "output_type": "stream",
     "text": [
      "2\n",
      "12\n",
      "22\n",
      "32\n",
      "42\n",
      "52\n",
      "62\n",
      "72\n",
      "82\n",
      "92\n"
     ]
    }
   ],
   "source": [
    "for i in range(2, 100, 10) :\n",
    "    print (i)"
   ]
  },
  {
   "cell_type": "code",
   "execution_count": 116,
   "metadata": {},
   "outputs": [
    {
     "name": "stdout",
     "output_type": "stream",
     "text": [
      "         a          \n",
      "        aaa         \n",
      "       aaaaa        \n",
      "      aaaaaaa       \n",
      "     aaaaaaaaa      \n"
     ]
    }
   ],
   "source": [
    "for i in range(1, 10, 2):\n",
    "    print(f\"{'a'*i:^20s}\")"
   ]
  },
  {
   "cell_type": "code",
   "execution_count": 117,
   "metadata": {},
   "outputs": [
    {
     "name": "stdout",
     "output_type": "stream",
     "text": [
      "if i < 5 1\n",
      "if i < 5 2\n",
      "if i < 5 3\n",
      "if i < 5 4\n"
     ]
    }
   ],
   "source": [
    "for i in range (1,10):\n",
    "    if  i < 5 :\n",
    "        print('if i < 5', i)"
   ]
  },
  {
   "cell_type": "code",
   "execution_count": 118,
   "metadata": {},
   "outputs": [
    {
     "name": "stdout",
     "output_type": "stream",
     "text": [
      "1*1 =  1   1*2 =  2   1*3 =  3   1*4 =  4   1*5 =  5   1*6 =  6   1*7 =  7   1*8 =  8   1*9 =  9   \n",
      "2*1 =  2   2*2 =  4   2*3 =  6   2*4 =  8   2*5 = 10   2*6 = 12   2*7 = 14   2*8 = 16   2*9 = 18   \n",
      "3*1 =  3   3*2 =  6   3*3 =  9   3*4 = 12   3*5 = 15   3*6 = 18   3*7 = 21   3*8 = 24   3*9 = 27   \n",
      "4*1 =  4   4*2 =  8   4*3 = 12   4*4 = 16   4*5 = 20   4*6 = 24   4*7 = 28   4*8 = 32   4*9 = 36   \n",
      "5*1 =  5   5*2 = 10   5*3 = 15   5*4 = 20   5*5 = 25   5*6 = 30   5*7 = 35   5*8 = 40   5*9 = 45   \n",
      "6*1 =  6   6*2 = 12   6*3 = 18   6*4 = 24   6*5 = 30   6*6 = 36   6*7 = 42   6*8 = 48   6*9 = 54   \n",
      "7*1 =  7   7*2 = 14   7*3 = 21   7*4 = 28   7*5 = 35   7*6 = 42   7*7 = 49   7*8 = 56   7*9 = 63   \n",
      "8*1 =  8   8*2 = 16   8*3 = 24   8*4 = 32   8*5 = 40   8*6 = 48   8*7 = 56   8*8 = 64   8*9 = 72   \n",
      "9*1 =  9   9*2 = 18   9*3 = 27   9*4 = 36   9*5 = 45   9*6 = 54   9*7 = 63   9*8 = 72   9*9 = 81   \n"
     ]
    }
   ],
   "source": [
    "for i in range(1, 10):\n",
    "    for j in range(1, 10):\n",
    "#         print(f'i: {i}, j: {j}')\n",
    "        print(f'{i:1d}*{j:1d} = {i*j:2d}', end='   ')\n",
    "    print()"
   ]
  },
  {
   "cell_type": "markdown",
   "metadata": {},
   "source": [
    "## 1-14 函數 (Function) 設計\n",
    "> 使用函數 / 函式的好處 :\n",
    "> * 軟體重複使用\n",
    "> * 功能切割，模組化，結構化\n",
    "> * 簡化程式提高程式的可讀性\n",
    "> * 易於維護及管理\n",
    "> * 讓程式偵錯更容易\n",
    "\n",
    "><img src=\"../assets/images/basic/func.png\"  style='width:80%'>"
   ]
  },
  {
   "cell_type": "code",
   "execution_count": 119,
   "metadata": {},
   "outputs": [
    {
     "name": "stdout",
     "output_type": "stream",
     "text": [
      "hi\n"
     ]
    }
   ],
   "source": [
    "def hi():\n",
    "    ''' it is a hi() function '''\n",
    "    print('hi')\n",
    "\n",
    "# 呼叫 function\n",
    "hi()"
   ]
  },
  {
   "cell_type": "code",
   "execution_count": 120,
   "metadata": {},
   "outputs": [
    {
     "name": "stdout",
     "output_type": "stream",
     "text": [
      "\u001b[0;31mSignature:\u001b[0m \u001b[0mhi\u001b[0m\u001b[0;34m(\u001b[0m\u001b[0;34m)\u001b[0m\u001b[0;34m\u001b[0m\u001b[0;34m\u001b[0m\u001b[0m\n",
      "\u001b[0;31mDocstring:\u001b[0m it is a hi() function \n",
      "\u001b[0;31mFile:\u001b[0m      /tmp/ipykernel_239496/2708167618.py\n",
      "\u001b[0;31mType:\u001b[0m      function"
     ]
    }
   ],
   "source": [
    "hi?"
   ]
  },
  {
   "cell_type": "code",
   "execution_count": 121,
   "metadata": {},
   "outputs": [
    {
     "name": "stdout",
     "output_type": "stream",
     "text": [
      "Area = 120\n"
     ]
    }
   ],
   "source": [
    "# 位置引數\n",
    "# Function definition\n",
    "def area(length, width):  # parameter\n",
    "    return length*width\n",
    "\n",
    "# Call function\n",
    "result = area(15, 8)\n",
    "print('Area =', result)\n",
    "\n",
    "# result = area(8)  # error. argument missing"
   ]
  },
  {
   "cell_type": "code",
   "execution_count": 122,
   "metadata": {},
   "outputs": [
    {
     "name": "stdout",
     "output_type": "stream",
     "text": [
      "Hello world  \n",
      "Hi Jack  \n",
      "Hi Jack  Hi Jack  \n",
      "Hi world  Hi world  Hi world  \n",
      "Hi sky  Hi sky  Hi sky  \n"
     ]
    }
   ],
   "source": [
    "# 函式的參數\n",
    "def fun(s1, s2='world', count=1):\n",
    "    s = s1+' ' + s2+ '  '\n",
    "    print(s * count)\n",
    "\n",
    "fun('Hello')\n",
    "fun('Hi', 'Jack')\n",
    "fun('Hi', 'Jack', 2)\n",
    "fun('Hi', count=3)\n",
    "fun('Hi', count=3, s2='sky')"
   ]
  },
  {
   "cell_type": "markdown",
   "metadata": {},
   "source": [
    "---"
   ]
  },
  {
   "cell_type": "markdown",
   "metadata": {},
   "source": [
    "<div style=\"page-break-after: always\"></div>\n",
    "\n",
    "# Mod. 02 NumPy基礎：陣列和向量化計算"
   ]
  },
  {
   "cell_type": "markdown",
   "metadata": {
    "tags": []
   },
   "source": [
    "> 資料科學（英語：data science）是一門利用資料學習知識的學科，其目標是通過從資料中`提取出有價值的部分`來生產資料產品。它結合了諸多領域中的理論和技術，包括應用`數學、統計、圖型識別、機器學習、資料視覺化、資料倉儲以及高效能計算`。資料科學通過運用各種相關的資料來幫助非專業人士理解問題。 資料科學技術可以幫助我們如何正確的處理資料並協助我們在生物學、社會科學、人類學等領域進行研究調研。此外，資料科學也對商業競爭有極大的幫助。--- wikipedia\n",
    "<!-- ><img src=\"./img/stepbystep.jpg\"  style='height:550px; width:500px'> -->\n",
    "><img src=\"../assets/images/basic/Top10DataScienceSkills.jpeg\"  style='width:90%'>"
   ]
  },
  {
   "cell_type": "markdown",
   "metadata": {},
   "source": [
    "> ndarray (numpy data array) 在儲存數據的時候，數據與數據的地址都是`連續的`，這樣就給使得批次運算元組元素時`速度更快`。\n",
    "\n",
    "> * ndarray 在儲存元素時記憶體可以連續，而 python 原生 list 就只能通過定址方式找到下一個元素，這雖然也導致了在通用效能方面 Numpy 的 ndarray 不及 Python 原生list，但在科學計算中，Numpy 的 ndarray 就可以`省掉很多回圈語句`，程式碼使用方面比 Python 原生 list 簡單的多。\n",
    "\n",
    "> * ndarray `支援並行化運算（向量化運算）`numpy 內建了並行運算功能，當系統有多個核心時，做某種計算時，numpy 會自動做`並行計算`\n",
    "\n",
    "> * 效率遠高於純 Python 程式碼, Numpy 底層使用 C 語言編寫，內部解除了GIL（全域性直譯器鎖），其對陣列的操作速度不受 Python 直譯器的限制，所以，`其效率遠高於純 Python 程式碼`。\n",
    "\n",
    "><img src=\"../assets/images/basic/listArray.png\"  style='width:90%'>"
   ]
  },
  {
   "cell_type": "code",
   "execution_count": 123,
   "metadata": {
    "collapsed": false,
    "editable": true,
    "jupyter": {
     "outputs_hidden": false
    }
   },
   "outputs": [],
   "source": [
    "import numpy as np\n",
    "import matplotlib.pyplot as plt"
   ]
  },
  {
   "cell_type": "markdown",
   "metadata": {
    "editable": true
   },
   "source": [
    "## 2-1 多排陣列物件 a Multidimensional Array Object"
   ]
  },
  {
   "cell_type": "code",
   "execution_count": 124,
   "metadata": {
    "collapsed": false,
    "editable": true,
    "jupyter": {
     "outputs_hidden": false
    }
   },
   "outputs": [
    {
     "name": "stdout",
     "output_type": "stream",
     "text": [
      "data =\n",
      "[[1 2 3]\n",
      " [4 5 6]\n",
      " [7 8 9]]\n",
      "\n",
      "type(data) : <class 'numpy.ndarray'>\n",
      "\n",
      "data * 10 =\n",
      "[[10 20 30]\n",
      " [40 50 60]\n",
      " [70 80 90]]\n",
      "\n",
      "data + data =\n",
      " [[ 2  4  6]\n",
      " [ 8 10 12]\n",
      " [14 16 18]]\n"
     ]
    }
   ],
   "source": [
    "# Generate some random data\n",
    "# data = np.random.randn(6)       # (6,) array\n",
    "data = np.array([[1,2,3], \n",
    "                 [4,5,6], [7,8,9]])  # 3*3 array normal distribution\n",
    "print(f'data =\\n{data}\\n\\n'\n",
    "      f'type(data) : {type(data)}\\n\\n'\n",
    "      f'data * 10 =\\n{data*10}\\n\\n'     # 和 list 不同\n",
    "      f'data + data =\\n {data+data}')  # 和 list [ ] + [ ] 不同"
   ]
  },
  {
   "cell_type": "markdown",
   "metadata": {},
   "source": [
    "### Array 1d, 2d ....\n",
    "><img src=\"../assets/images/basic/arrays.jpeg\"  style='width:90%'>"
   ]
  },
  {
   "cell_type": "markdown",
   "metadata": {},
   "source": [
    "### shape(4, ) != shape(4, 1)"
   ]
  },
  {
   "cell_type": "code",
   "execution_count": 125,
   "metadata": {},
   "outputs": [
    {
     "name": "stdout",
     "output_type": "stream",
     "text": [
      "a\t\t\t: [1 2 3 4]\n",
      "a.shape\t\t\t: (4,)\n",
      "\n",
      "a.reshape(4,1) :\n",
      "[[1]\n",
      " [2]\n",
      " [3]\n",
      " [4]]\n",
      "\n",
      ".reshape(4,1).shape\t: (4, 1)\n"
     ]
    }
   ],
   "source": [
    "a = np.array([1,2,3,4])\n",
    "print(f'a\\t\\t\\t: {a}\\n'\n",
    "      f'a.shape\\t\\t\\t: {a.shape}\\n\\n'\n",
    "      f'a.reshape(4,1) :\\n{a.reshape(4,1)}\\n\\n'\n",
    "      f'.reshape(4,1).shape\\t: {a.reshape(4,1).shape}')"
   ]
  },
  {
   "cell_type": "markdown",
   "metadata": {},
   "source": [
    "<div style=\"page-break-after: always\"></div>\n",
    "\n",
    "## 2-2 NumPy 陣列的基本屬性\n",
    "\n",
    "|屬性名字\t       |屬性解釋                   |\n",
    "|-----------------|--------------------------|\n",
    "|ndarray.shape\t  |陣列維度的元組             |\n",
    "|ndarray.ndim\t  |陣列維數                   |\n",
    "|ndarray.size\t  |陣列中的元素數量           |\n",
    "|ndarray.itemsize |一個數組元素的長度（位元組 byte）float64 itemsize值為 8。`等同於ndarray.dtype.itemsize`。|\n",
    "|ndarray.dtype\t  |陣列元素的型別             |"
   ]
  },
  {
   "cell_type": "code",
   "execution_count": 126,
   "metadata": {
    "collapsed": false,
    "editable": true,
    "jupyter": {
     "outputs_hidden": false
    }
   },
   "outputs": [
    {
     "name": "stdout",
     "output_type": "stream",
     "text": [
      "data =\n",
      "[[-1.44656276 -1.5296413  -0.18923119]\n",
      " [ 1.48345131 -1.22080727  0.49225357]]\n",
      "\n",
      "data.shape\t: (2, 3)\n",
      "data.dtype\t: float64\n"
     ]
    }
   ],
   "source": [
    "data = np.random.randn(2, 3)  # 2*3 array, normal dist. mu=0, stdev=1\n",
    "print(f'data =\\n{data}\\n\\n'\n",
    "      f'data.shape\\t: {data.shape}\\n'\n",
    "      f'data.dtype\\t: {data.dtype}')"
   ]
  },
  {
   "cell_type": "markdown",
   "metadata": {},
   "source": [
    "### np.zeros, ones, full, eye ...\n",
    "> <img src=\"../assets/images/basic/array_gen.jpg\"  style='width:90%'></img>"
   ]
  },
  {
   "cell_type": "code",
   "execution_count": 127,
   "metadata": {},
   "outputs": [
    {
     "name": "stdout",
     "output_type": "stream",
     "text": [
      "arr : [0. 0. 0. 0. 0. 0. 0. 0. 0. 0.]\n",
      "\n",
      "zeros :\n",
      "[[0. 0. 0. 0. 0.]\n",
      " [0. 0. 0. 0. 0.]\n",
      " [0. 0. 0. 0. 0.]\n",
      " [0. 0. 0. 0. 0.]\n",
      " [0. 0. 0. 0. 0.]]\n",
      "\n",
      "ones :\n",
      "[1. 1. 1. 1. 1.]\n",
      "\n",
      "ones :\n",
      "[[1. 1. 1. 1. 1.]\n",
      " [1. 1. 1. 1. 1.]\n",
      " [1. 1. 1. 1. 1.]\n",
      " [1. 1. 1. 1. 1.]\n",
      " [1. 1. 1. 1. 1.]]\n",
      "\n",
      "full :\n",
      "[[7 7 7 7 7]\n",
      " [7 7 7 7 7]\n",
      " [7 7 7 7 7]\n",
      " [7 7 7 7 7]\n",
      " [7 7 7 7 7]]\n",
      "\n",
      "eye :\n",
      "[[0. 0. 0. 0. 0.]\n",
      " [1. 0. 0. 0. 0.]\n",
      " [0. 1. 0. 0. 0.]\n",
      " [0. 0. 1. 0. 0.]\n",
      " [0. 0. 0. 1. 0.]]\n",
      "\n",
      "diag :\n",
      "[[1 0 0 0 0]\n",
      " [0 2 0 0 0]\n",
      " [0 0 3 0 0]\n",
      " [0 0 0 4 0]\n",
      " [0 0 0 0 5]]\n",
      "\n"
     ]
    }
   ],
   "source": [
    "import numpy as np\n",
    "arr = np.zeros(10)            # same as arr = np.zeros((10,))\n",
    "print(f'arr : {arr}\\n')\n",
    "\n",
    "arr = np.zeros((5, 5));    print(f'zeros :\\n{arr}\\n')\n",
    "arr = np.ones(5);          print(f'ones :\\n{arr}\\n') # same as arr = np.ones((10,))\n",
    "arr = np.ones((5, 5));     print(f'ones :\\n{arr}\\n')\n",
    "arr = np.full((5, 5), 7);  print(f'full :\\n{arr}\\n')\n",
    "\n",
    "# note : eye, k=0, k=1, k=-1....\n",
    "arr = np.eye(5, k=-1);     print(f'eye :\\n{arr}\\n')   # try k=-1, k=2 \n",
    "arr = np.diag((1,2,3,4,5));  print(f'diag :\\n{arr}\\n')"
   ]
  },
  {
   "cell_type": "markdown",
   "metadata": {
    "editable": true
   },
   "source": [
    "<div style=\"page-break-after: always\"></div>\n",
    "\n",
    "## 2-3 Data Types for ndarrays\n",
    "|名稱          |描述                                              |簡寫|\n",
    "|--------------|-------------------------------------------------|----|\n",
    "|np.bool\t   |用一個位元組儲存的布爾型別（True或False）           |'b' |\n",
    "|np.int8\t   |一個位元組大小，-128 至 127\t                      |'i' |\n",
    "|np.int16\t   |整數，-32768 至 32767\t                          |'i2'|\n",
    "|`np.int32`    |整數，-2^31​ 至 2^32 -1\t                          |'i4'|\n",
    "|np.int64\t   |整數，-2^63 至 2^63 - 1\t                          |'i8'|\n",
    "|`np.uint8`    |無符號整數，0 至 255\t                            |'u' |\n",
    "|np.uint16\t   |無符號整數，0 至 65535\t                            |'u2'|\n",
    "|np.uint32\t   |無符號整數，0 至 2^32 - 1\t                        |'u4'|\n",
    "|np.uint64\t   |無符號整數，0 至 2^64 - 1\t                        |'u8'|\n",
    "|np.float16\t   |半精度浮點數：16位元，正負號1位，指數5位，精度10位    |'f2'|\n",
    "|np.float32    |單精度浮點數：32位元，正負號1位，指數8位元，精度23位  |'f4'|\n",
    "|`np.float64`  |雙精度浮點數：64位元，正負號1位，指數11位，精度52位   |'f8'|\n",
    "|np.complex64  |複數，分別用兩個32位元浮點數表示實部和虛部            |'c8'|\n",
    "|np.complex128 |複數，分別用兩個64位元浮點數表示實部和虛部            |'c16'|\n",
    "|`np.object_`  |python物件\t                                     |'O' |\n",
    "|np.string_\t   |字串\t                                             |'S' |\n",
    "|np.unicode_   |unicode型別                                        |'U' |"
   ]
  },
  {
   "cell_type": "markdown",
   "metadata": {},
   "source": [
    "---"
   ]
  },
  {
   "cell_type": "markdown",
   "metadata": {
    "editable": true
   },
   "source": [
    "<div style=\"page-break-after: always\"></div>\n",
    "\n",
    "# Mod 03 指標和切片 Indexing & Slicing\n",
    "> Numpy 中多維陣列的切片操作與 Python 中 `list 的切片操作一樣`，同樣由 start, stop, step 三個部分組成\n",
    "\n",
    "## 3-1 Basic Indexing & Slicing"
   ]
  },
  {
   "cell_type": "markdown",
   "metadata": {},
   "source": [
    "> ### Illustrate the scope of indexing in NumPy\n",
    "> <img src=\"../assets/images/basic/index.jpg\"  style='width:90%'></img>"
   ]
  },
  {
   "cell_type": "markdown",
   "metadata": {},
   "source": [
    "> ### `index : [row, colum]`\n",
    "> ### `slice : [row : row, column : column, ....]`\n",
    "> <img src=\"../assets/images/basic/np_arrays.png\"  style='width:90%'></img>\n",
    "> <img src=\"../assets/images/basic/index_2d.jpg\"  style='width:90%'></img>"
   ]
  },
  {
   "cell_type": "code",
   "execution_count": 128,
   "metadata": {
    "collapsed": false,
    "editable": true,
    "jupyter": {
     "outputs_hidden": false
    }
   },
   "outputs": [
    {
     "name": "stdout",
     "output_type": "stream",
     "text": [
      "arr\t\t= [0 1 2 3 4 5 6 7 8 9]\n",
      "arr[5]\t\t= 5\n",
      "arr[5:8]\t= [5 6 7]\n",
      "arr[5:8:2] \t= [5 7]\n",
      "arr\t\t= [ 0  1  2  3  4 12 12 12  8  9]\n"
     ]
    }
   ],
   "source": [
    "import numpy as np\n",
    "arr = np.arange(10)\n",
    "print(f'arr\\t\\t= {arr}\\n'\n",
    "      f'arr[5]\\t\\t= {arr[5]}\\n'\n",
    "      f'arr[5:8]\\t= {arr[5:8]}\\n'\n",
    "      f'arr[5:8:2] \\t= {arr[5:8:2]}')\n",
    "\n",
    "arr[5:8] = 12\n",
    "print(f'arr\\t\\t= {arr}')"
   ]
  },
  {
   "cell_type": "markdown",
   "metadata": {},
   "source": [
    "### axis = 0, axis = 1, axis = ......\n",
    "> <img src=\"../assets/images/basic/axis.jpg\"  style='width:90%'></img>"
   ]
  },
  {
   "cell_type": "markdown",
   "metadata": {},
   "source": [
    "> <img src=\"../assets/images/basic/axis01.jpg\"  style='width:90%'></img>\n",
    "\n",
    "### flatten & ravel"
   ]
  },
  {
   "cell_type": "code",
   "execution_count": 129,
   "metadata": {
    "collapsed": false,
    "editable": true,
    "jupyter": {
     "outputs_hidden": false
    }
   },
   "outputs": [
    {
     "name": "stdout",
     "output_type": "stream",
     "text": [
      "arr2d =\n",
      "[[1 2 3]\n",
      " [4 5 6]\n",
      " [7 8 9]]\n",
      "\n",
      "arr2d[2]\t = [7 8 9]\n",
      "arr2d[0][2]\t = 3\n",
      "arr2d[0, 2]\t = 3\n"
     ]
    }
   ],
   "source": [
    "arr2d = np.array([[1, 2, 3], [4, 5, 6], [7, 8, 9]])\n",
    "print(f'arr2d =\\n{arr2d}\\n\\n'\n",
    "      f'arr2d[2]\\t = {arr2d[2]}\\n'\n",
    "      f'arr2d[0][2]\\t = {arr2d[0][2]}\\n'\n",
    "      f'arr2d[0, 2]\\t = { arr2d[0, 2]}')"
   ]
  },
  {
   "cell_type": "markdown",
   "metadata": {},
   "source": [
    "## 3-2 Indexing with slices\n",
    "> <img src=\"../assets/images/basic/np_indexing.png\"  style='width:90%'></img>"
   ]
  },
  {
   "cell_type": "code",
   "execution_count": 130,
   "metadata": {
    "collapsed": false,
    "editable": true,
    "jupyter": {
     "outputs_hidden": false
    }
   },
   "outputs": [
    {
     "data": {
      "text/plain": [
       "(array([[1, 2, 3],\n",
       "        [4, 5, 6],\n",
       "        [7, 8, 9]]),\n",
       " array([[1, 2, 3],\n",
       "        [4, 5, 6]]))"
      ]
     },
     "execution_count": 130,
     "metadata": {},
     "output_type": "execute_result"
    }
   ],
   "source": [
    "arr2d = np.array([[1, 2, 3], [4, 5, 6], [7, 8, 9]])\n",
    "arr2d, arr2d[:2]  # row only"
   ]
  },
  {
   "cell_type": "code",
   "execution_count": 131,
   "metadata": {
    "collapsed": false,
    "editable": true,
    "jupyter": {
     "outputs_hidden": false
    }
   },
   "outputs": [
    {
     "data": {
      "text/plain": [
       "array([[2, 3],\n",
       "       [5, 6]])"
      ]
     },
     "execution_count": 131,
     "metadata": {},
     "output_type": "execute_result"
    }
   ],
   "source": [
    "arr2d[:2, 1:]  # row and column"
   ]
  },
  {
   "cell_type": "code",
   "execution_count": 132,
   "metadata": {
    "collapsed": false,
    "editable": true,
    "jupyter": {
     "outputs_hidden": false
    }
   },
   "outputs": [
    {
     "data": {
      "text/plain": [
       "array([4, 5])"
      ]
     },
     "execution_count": 132,
     "metadata": {},
     "output_type": "execute_result"
    }
   ],
   "source": [
    "arr2d[1, :2]"
   ]
  },
  {
   "cell_type": "code",
   "execution_count": 133,
   "metadata": {
    "collapsed": false,
    "editable": true,
    "jupyter": {
     "outputs_hidden": false
    }
   },
   "outputs": [
    {
     "data": {
      "text/plain": [
       "array([[3],\n",
       "       [6]])"
      ]
     },
     "execution_count": 133,
     "metadata": {},
     "output_type": "execute_result"
    }
   ],
   "source": [
    "arr2d[:2, 2:]"
   ]
  },
  {
   "cell_type": "code",
   "execution_count": 134,
   "metadata": {
    "collapsed": false,
    "editable": true,
    "jupyter": {
     "outputs_hidden": false
    }
   },
   "outputs": [
    {
     "data": {
      "text/plain": [
       "array([[1],\n",
       "       [4],\n",
       "       [7]])"
      ]
     },
     "execution_count": 134,
     "metadata": {},
     "output_type": "execute_result"
    }
   ],
   "source": [
    "arr2d[:, :1]"
   ]
  },
  {
   "cell_type": "code",
   "execution_count": 135,
   "metadata": {
    "collapsed": false,
    "editable": true,
    "jupyter": {
     "outputs_hidden": false
    }
   },
   "outputs": [
    {
     "data": {
      "text/plain": [
       "array([[1, 0, 0],\n",
       "       [4, 0, 0],\n",
       "       [7, 8, 9]])"
      ]
     },
     "execution_count": 135,
     "metadata": {},
     "output_type": "execute_result"
    }
   ],
   "source": [
    "arr2d[:2, 1:] = 0\n",
    "arr2d"
   ]
  },
  {
   "cell_type": "code",
   "execution_count": 136,
   "metadata": {
    "collapsed": false,
    "editable": true,
    "jupyter": {
     "outputs_hidden": false
    }
   },
   "outputs": [
    {
     "data": {
      "text/plain": [
       "(array([[ 0,  1,  2,  3,  4],\n",
       "        [ 5,  6,  7,  8,  9],\n",
       "        [10, 11, 12, 13, 14]]),\n",
       " array([[ 0,  5, 10],\n",
       "        [ 1,  6, 11],\n",
       "        [ 2,  7, 12],\n",
       "        [ 3,  8, 13],\n",
       "        [ 4,  9, 14]]),\n",
       " array([[ 0,  5, 10],\n",
       "        [ 1,  6, 11],\n",
       "        [ 2,  7, 12],\n",
       "        [ 3,  8, 13],\n",
       "        [ 4,  9, 14]]))"
      ]
     },
     "execution_count": 136,
     "metadata": {},
     "output_type": "execute_result"
    }
   ],
   "source": [
    "arr = np.arange(15).reshape((3, 5))\n",
    "arr, arr.T, np.transpose(arr)"
   ]
  },
  {
   "cell_type": "code",
   "execution_count": 137,
   "metadata": {
    "collapsed": false,
    "editable": true,
    "jupyter": {
     "outputs_hidden": false
    }
   },
   "outputs": [
    {
     "data": {
      "text/plain": [
       "(array([[ 0,  1,  2,  3,  4],\n",
       "        [ 5,  6,  7,  8,  9],\n",
       "        [10, 11, 12, 13, 14]]),\n",
       " array([[ 0,  5, 10],\n",
       "        [ 1,  6, 11],\n",
       "        [ 2,  7, 12],\n",
       "        [ 3,  8, 13],\n",
       "        [ 4,  9, 14]]),\n",
       " array([[ 0,  5, 10],\n",
       "        [ 1,  6, 11],\n",
       "        [ 2,  7, 12],\n",
       "        [ 3,  8, 13],\n",
       "        [ 4,  9, 14]]))"
      ]
     },
     "execution_count": 137,
     "metadata": {},
     "output_type": "execute_result"
    }
   ],
   "source": [
    "arr = np.arange(15).reshape((3, 5))\n",
    "arr, arr.swapaxes(0, 1), arr.T"
   ]
  },
  {
   "cell_type": "code",
   "execution_count": 138,
   "metadata": {},
   "outputs": [
    {
     "data": {
      "text/plain": [
       "(array([[[ 0,  1,  2,  3],\n",
       "         [ 4,  5,  6,  7]],\n",
       " \n",
       "        [[ 8,  9, 10, 11],\n",
       "         [12, 13, 14, 15]]]),\n",
       " array([[[ 0,  8],\n",
       "         [ 1,  9],\n",
       "         [ 2, 10],\n",
       "         [ 3, 11]],\n",
       " \n",
       "        [[ 4, 12],\n",
       "         [ 5, 13],\n",
       "         [ 6, 14],\n",
       "         [ 7, 15]]]),\n",
       " (2, 2, 4),\n",
       " (2, 4, 2))"
      ]
     },
     "execution_count": 138,
     "metadata": {},
     "output_type": "execute_result"
    }
   ],
   "source": [
    "arr = np.arange(16).reshape((2,2,4))\n",
    "arr, arr.transpose((1,2,0)), arr.shape, arr.transpose((1,2,0)).shape # (1,2,0) are indexes"
   ]
  },
  {
   "cell_type": "markdown",
   "metadata": {},
   "source": [
    "---\n",
    "<center><h1>--- The End ---</h1></center>"
   ]
  }
 ],
 "metadata": {
  "kernelspec": {
   "display_name": "opencv-tools-image-process",
   "language": "python",
   "name": "opencv-tools-image-process"
  },
  "language_info": {
   "codemirror_mode": {
    "name": "ipython",
    "version": 3
   },
   "file_extension": ".py",
   "mimetype": "text/x-python",
   "name": "python",
   "nbconvert_exporter": "python",
   "pygments_lexer": "ipython3",
   "version": "3.10.12"
  }
 },
 "nbformat": 4,
 "nbformat_minor": 4
}
