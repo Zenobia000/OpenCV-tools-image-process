{
 "cells": [
  {
   "cell_type": "markdown",
   "metadata": {},
   "source": [
    "## 練習 2-1\n",
    "> * 將 lenaColor.png 彩色讀入\n",
    "> * 將 b, g, r 分拆成三個 numpy 2 維的 array\n",
    "\n",
    "> * 將 b array 中的 [100:400, 150:415] 區塊變成白色(255)\n",
    "> * 將 g array 中的 [100:400, 150:415] 區塊變成白色*1/2(127)\n",
    "> * 將 r array 中的 [100:400, 150:415] 區塊變成黑色(0)\n",
    "\n",
    "> * 再將這三個 array 依 b, g, r 的順序黏回去組成一 3 維的 array 並顯示出來\n",
    "> * 再將這三個 array 依 g, r, b 的順序黏回去組成一 3 維的 array 並顯示出來\n",
    "> * 再將這三個 array 依 b, b, b 的順序黏回去組成一 3 維的 array 並顯示出來"
   ]
  },
  {
   "cell_type": "code",
   "execution_count": 18,
   "metadata": {},
   "outputs": [],
   "source": [
    "import cv2\n",
    "\n",
    "# ------- your code ----------------------\n",
    "\n",
    "\n",
    "\n",
    "\n",
    "\n",
    "cv2.waitKey(0)\n",
    "cv2.destroyAllWindows()"
   ]
  },
  {
   "cell_type": "markdown",
   "metadata": {},
   "source": [
    "---\n",
    "## 練習 2-2 解答\n",
    "在一個 $512*512*3$ 的黑色畫布上, 利用畫圓的函數 cv2.circle, for loop 和 亂數\n",
    ">* 以畫布中心為圓心, 畫出 12 等距同心圓\n",
    ">* 12 同心圓RGB顏色隨機變換, 每次不一樣<br>\n",
    "><img src=\"..\\image\\circle2-1.jpg\"  style='width:50%'>"
   ]
  },
  {
   "cell_type": "code",
   "execution_count": 2,
   "metadata": {},
   "outputs": [
    {
     "data": {
      "text/plain": [
       "-1"
      ]
     },
     "execution_count": 2,
     "metadata": {},
     "output_type": "execute_result"
    }
   ],
   "source": [
    "import numpy as np\n",
    "\n",
    "# ---- your code -----------------\n",
    "\n",
    "\n",
    "\n",
    "\n",
    "\n",
    "\n",
    "\n",
    "cv2.waitKey(0)\n",
    "cv2.destroyAllWindows()\n",
    "cv2.waitKey(1)"
   ]
  },
  {
   "cell_type": "markdown",
   "metadata": {},
   "source": [
    "---\n",
    "## 練習 2-3\n",
    "在一個 $512*512*3$ 的黑色畫布上, 利用畫橢圓的函數 cv2.ellipse 和 for loop\n",
    ">* 以畫布中心為圓心, 畫出 12 同心等分 360 度橢圓, 顏色一樣<br>\n",
    "><img src=\"..\\image\\ellipse2-2.jpg\"  style='width:50%'>"
   ]
  },
  {
   "cell_type": "code",
   "execution_count": 3,
   "metadata": {},
   "outputs": [
    {
     "data": {
      "text/plain": [
       "-1"
      ]
     },
     "execution_count": 3,
     "metadata": {},
     "output_type": "execute_result"
    }
   ],
   "source": [
    "import numpy as np\n",
    "\n",
    "# ---- your code ---------------\n",
    "\n",
    "\n",
    "\n",
    "\n",
    "\n",
    "\n",
    "\n",
    "\n",
    "\n",
    "cv2.waitKey(0)\n",
    "cv2.destroyAllWindows()\n",
    "cv2.waitKey(1)"
   ]
  },
  {
   "cell_type": "markdown",
   "metadata": {},
   "source": [
    "---\n",
    "## 練習 2-4 \n",
    "在一個 $400*600*3$ 的黑色畫布上, 利用畫圓的函數隨機產生 40 個 (圓心隨機, 填滿顏色隨機, 半徑隨機)\n",
    "><img src=\"..\\image\\circle2-2.jpg\"  style='width:50%'>"
   ]
  },
  {
   "cell_type": "code",
   "execution_count": 3,
   "metadata": {},
   "outputs": [],
   "source": [
    "import cv2\n",
    "import numpy as np\n",
    "\n",
    "# ---- your code -----------\n",
    "\n",
    "\n",
    "\n",
    "\n",
    "\n",
    "\n",
    "\n",
    "\n",
    "cv2.waitKey(0)                                      \n",
    "cv2.destroyAllWindows()                 # 刪除所有視窗"
   ]
  },
  {
   "cell_type": "markdown",
   "metadata": {},
   "source": []
  }
 ],
 "metadata": {
  "kernelspec": {
   "display_name": "Python 3 (ipykernel)",
   "language": "python",
   "name": "python3"
  },
  "language_info": {
   "codemirror_mode": {
    "name": "ipython",
    "version": 3
   },
   "file_extension": ".py",
   "mimetype": "text/x-python",
   "name": "python",
   "nbconvert_exporter": "python",
   "pygments_lexer": "ipython3",
   "version": "3.9.13"
  }
 },
 "nbformat": 4,
 "nbformat_minor": 4
}
