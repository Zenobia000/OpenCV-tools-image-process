{
 "cells": [
  {
   "cell_type": "markdown",
   "metadata": {},
   "source": [
    "## 安裝 Python"
   ]
  },
  {
   "cell_type": "markdown",
   "metadata": {
    "tags": []
   },
   "source": [
    "## anaconda 下載 :\n",
    "> Windows : https://www.anaconda.com/products/individual#windows<br>\n",
    "> macOS : https://www.anaconda.com/products/individual#macos"
   ]
  },
  {
   "cell_type": "markdown",
   "metadata": {},
   "source": [
    "### Jupyter 快捷鍵\n",
    "> * shift-enter: 跑程式\n",
    "> * A : 上面增加一格\n",
    "> * B : 下面增加一格\n",
    "> * C : 複製 (crtl + C)\n",
    "> * V : 貼上 (crtl + V)\n",
    "> * Z : 復原 (crtl + Z)\n",
    "> * X : 剪下 (crtl + X)\n",
    "> * shift-up & shift-down: 多個block選取\n",
    "> * M : markdown抄筆記\n",
    "> * shift + tab : param instruction\n",
    "> * tab : functions instruction"
   ]
  },
  {
   "cell_type": "markdown",
   "metadata": {},
   "source": [
    "### 在 (命令提示字元 `系統管理員`) 身分下打 pip install ....... 指令( `灌程式` )\n",
    ">### install packages\n",
    "> * pip install numpy\n",
    "> * pip install matplotlib\n",
    "> * pip install opencv-python\n",
    "> * pip install opencv-contrib-python\n",
    "> * pip install scikit-learn\n",
    "> * pip install scikit-image\n",
    "> * pip install scipy\n",
    "> * pip install imutils\n",
    "> * pip install pytesseract\n",
    "\n",
    "<div style=\"page-break-after: always\"></div>\n",
    "\n",
    "> * Windows OS :\n",
    ">> pip install dlib<br>\n",
    ">> or (pip install \"C:\\Users\\User\\Desktop\\OpenCV\\install\\dlib-19.22.99-cp39-cp39-win_amd64.whl\")\n",
    "\n",
    "> * IOS :\n",
    ">> pip install cmake<br>\n",
    ">> pip install dlib"
   ]
  },
  {
   "cell_type": "markdown",
   "metadata": {},
   "source": [
    "> * ### 課堂上多理解, 思考程式邏輯\n",
    "> * ### 多參加線上社團學習, 如 FB-python Taiwan....etc.\n",
    "> * ### Q&A 社團 iCoding : \n",
    "> https://www.facebook.com/groups/216955676502460\n",
    "---"
   ]
  },
  {
   "cell_type": "markdown",
   "metadata": {},
   "source": [
    "## 先看一段影片"
   ]
  },
  {
   "cell_type": "code",
   "execution_count": null,
   "metadata": {
    "tags": []
   },
   "outputs": [],
   "source": [
    "%%HTML\n",
    "<iframe width=\"640\" height=\"480\" \n",
    "src=\"https://www.youtube.com/embed/Fszu0L1JtqM?si=BbbCZv7ZdhY62lj1\" \n",
    "title=\"YouTube video player\" frameborder=\"0\" \n",
    "allow=\"accelerometer; autoplay; clipboard-write; encrypted-media; gyroscope; picture-in-picture; web-share\" \n",
    "allowfullscreen></iframe>\n",
    "\n",
    "# https://www.youtube.com/watch?v=Fszu0L1JtqM"
   ]
  },
  {
   "cell_type": "markdown",
   "metadata": {},
   "source": [
    "><img src=\"./image/pythonLogo.png\"  style='width:90%'></img>\n",
    "### 程式語言的成長趨勢\n",
    "><img src=\"./image/PythonTrend.png\"  style='width:90%'>"
   ]
  },
  {
   "cell_type": "markdown",
   "metadata": {},
   "source": [
    "<div style=\"page-break-after: always\"></div>\n",
    "\n",
    "### Top Python IDEs for Data Science in 2019\n",
    "><img src=\"./image/mostIde.jpg\"  style='width:90%'>"
   ]
  },
  {
   "cell_type": "markdown",
   "metadata": {},
   "source": [
    "## 0-3, Python 特色\n",
    "> * 物件導向式語言架構(Object-Oriented Program Language)\n",
    "> * 直譯式, 又稱作腳本語言(Scripting language)\n",
    "> * 省略變數類型宣告動作\n",
    "> * 自動化的記憶體管理\n",
    "> * 內建許多高階實用的資料型態, 提供許多標準函式庫及第三方套件(package)\n",
    "> * 跨平台與圖形介面延伸, 能與其他語言結合\n",
    "> * 優雅簡潔，易學易用"
   ]
  },
  {
   "cell_type": "markdown",
   "metadata": {},
   "source": [
    "### Python3.X\n",
    "> * 現在進行式同時也是未來趨勢\n",
    "> * 活絡發展中\n",
    "> * 對初學者較友善"
   ]
  },
  {
   "cell_type": "markdown",
   "metadata": {},
   "source": [
    "### jupyter try (網路版本)\n",
    "> https://jupyter.org/try\n",
    "---"
   ]
  },
  {
   "cell_type": "markdown",
   "metadata": {},
   "source": [
    "# Mod_01_Python簡介"
   ]
  },
  {
   "cell_type": "code",
   "execution_count": null,
   "metadata": {
    "tags": []
   },
   "outputs": [],
   "source": [
    "import sys\n",
    "sys.version"
   ]
  },
  {
   "cell_type": "markdown",
   "metadata": {},
   "source": [
    "## check numpy, pandas & matplotlib"
   ]
  },
  {
   "cell_type": "code",
   "execution_count": null,
   "metadata": {
    "tags": []
   },
   "outputs": [],
   "source": [
    "import cv2\n",
    "import numpy as np\n",
    "import dlib\n",
    "import sys\n",
    "import matplotlib\n",
    "from matplotlib import pyplot as plt\n",
    "import skimage\n",
    "import sklearn\n",
    "print(f'python ver.\\t: {sys.version}\\n\\n'\n",
    "      f'cv2 ver.\\t: {cv2.__version__}\\n\\t\\t: {cv2.__file__}\\n\\n'\n",
    "      f'numpy ver.\\t: {np.__version__}\\n\\t\\t: {np.__file__}\\n\\n'\n",
    "      f'matplotlib ver.\\t: {matplotlib.__version__}\\n\\t\\t: {matplotlib.__file__}\\n\\n'\n",
    "      f'dlib ver.\\t: {dlib.__version__}\\n\\t\\t: {dlib.__file__}\\n\\n'\n",
    "      f'skimage ver.\\t: {skimage.__version__}\\n\\t\\t:  {skimage.__file__}\\n\\n'\n",
    "      f'sklearn ver.\\t: {sklearn.__version__}\\n\\t\\t:  {sklearn.__file__}\\n\\n')"
   ]
  },
  {
   "cell_type": "markdown",
   "metadata": {},
   "source": [
    "## 1-1 on-line help : shift + tab"
   ]
  },
  {
   "cell_type": "code",
   "execution_count": null,
   "metadata": {},
   "outputs": [],
   "source": [
    "help(print)  # shift + tab,  see whatever you want to check.  change 'len' in quotation."
   ]
  },
  {
   "cell_type": "code",
   "execution_count": null,
   "metadata": {},
   "outputs": [],
   "source": [
    "len?"
   ]
  },
  {
   "cell_type": "code",
   "execution_count": null,
   "metadata": {},
   "outputs": [],
   "source": [
    "import keyword\n",
    "print(keyword.kwlist)"
   ]
  },
  {
   "cell_type": "code",
   "execution_count": null,
   "metadata": {},
   "outputs": [],
   "source": [
    "print(50)"
   ]
  },
  {
   "cell_type": "code",
   "execution_count": null,
   "metadata": {},
   "outputs": [],
   "source": [
    "name = 'John'\n",
    "name"
   ]
  },
  {
   "cell_type": "code",
   "execution_count": null,
   "metadata": {},
   "outputs": [],
   "source": [
    "miles = 477.5\n",
    "miles"
   ]
  },
  {
   "cell_type": "code",
   "execution_count": null,
   "metadata": {},
   "outputs": [],
   "source": [
    "a, b, c = 1, 2., 'John'\n",
    "print(a, b, c)\n",
    "a, b, c  # tuple"
   ]
  },
  {
   "cell_type": "code",
   "execution_count": null,
   "metadata": {},
   "outputs": [],
   "source": [
    "print(+7); print(++7)\n",
    "print(12+34)\n",
    "print(9**2)\n",
    "print(9/2)\n",
    "print(9//2)    # 整數除法\n",
    "print(-9//2)   # ??? what happen??  地板式整除"
   ]
  },
  {
   "cell_type": "code",
   "execution_count": null,
   "metadata": {},
   "outputs": [],
   "source": [
    "print('17*6\\t=', 17*6)\n",
    "print()        # 下一行\n",
    "print('17*6\\t=', 17*6, '\\t17%6 = ', 17%6)"
   ]
  },
  {
   "cell_type": "code",
   "execution_count": null,
   "metadata": {},
   "outputs": [],
   "source": [
    "a = 5; b = 3; a = a/b\n",
    "a"
   ]
  },
  {
   "cell_type": "code",
   "execution_count": null,
   "metadata": {},
   "outputs": [],
   "source": [
    "a = 5; b = 2\n",
    "a = a + b   #a += b\n",
    "a"
   ]
  },
  {
   "cell_type": "code",
   "execution_count": null,
   "metadata": {},
   "outputs": [],
   "source": [
    "a=5; b=2\n",
    "a, b = b, a\n",
    "a, b    "
   ]
  },
  {
   "cell_type": "markdown",
   "metadata": {},
   "source": [
    "## 1-2 Comparison Operators"
   ]
  },
  {
   "cell_type": "code",
   "execution_count": null,
   "metadata": {},
   "outputs": [],
   "source": [
    "a = 5;  b = 3\n",
    "\n",
    "print(a == b)\n",
    "print(a != b)\n",
    "print(a > b)\n",
    "print(a < b)\n",
    "print(a >= b)\n",
    "print(a <= b)"
   ]
  },
  {
   "cell_type": "code",
   "execution_count": null,
   "metadata": {},
   "outputs": [],
   "source": [
    "x = 2\n",
    "print('x == 2\\t:', x == 2)\n",
    "print('x != 2\\t:', x != 2)\n",
    "print('x < 5\\t:', x < 5)\n",
    "print('x > 2\\t:', x > 2)\n",
    "print('x <= 2\\t:', x <= 2)\n",
    "print('x >= 2\\t:', x >= 2)"
   ]
  },
  {
   "cell_type": "markdown",
   "metadata": {},
   "source": [
    "## 1-3 Assignment Operators"
   ]
  },
  {
   "cell_type": "code",
   "execution_count": null,
   "metadata": {},
   "outputs": [],
   "source": [
    "a = 5\n",
    "\n",
    "a = a + 3; print(a)  # a+=3\n",
    "a = a - 5; print(a)  # a-=3\n",
    "a = a * 2; print(a)  # a*=3\n",
    "a = a / 2; print(a)  # a/=3"
   ]
  },
  {
   "cell_type": "markdown",
   "metadata": {},
   "source": [
    "## 1-4 Logical Operators"
   ]
  },
  {
   "cell_type": "markdown",
   "metadata": {},
   "source": [
    "> Python no Boolean.  It is `整數的子型態` (subtype of integers)<br>\n",
    "> True = 1, False = 0"
   ]
  },
  {
   "cell_type": "markdown",
   "metadata": {},
   "source": [
    ">### 4-3 真值表 (Truth Table)\n",
    "><img src=\"./image/truth_table.png\"  style='width:100%'>"
   ]
  },
  {
   "cell_type": "code",
   "execution_count": null,
   "metadata": {},
   "outputs": [],
   "source": [
    "1 + True"
   ]
  },
  {
   "cell_type": "code",
   "execution_count": null,
   "metadata": {},
   "outputs": [],
   "source": [
    "1 + False"
   ]
  },
  {
   "cell_type": "code",
   "execution_count": null,
   "metadata": {},
   "outputs": [],
   "source": [
    "True + True*5"
   ]
  },
  {
   "cell_type": "code",
   "execution_count": null,
   "metadata": {},
   "outputs": [],
   "source": [
    "a = True;  b = False\n",
    "print(a and b)"
   ]
  },
  {
   "cell_type": "code",
   "execution_count": null,
   "metadata": {},
   "outputs": [],
   "source": [
    "print(a or b)"
   ]
  },
  {
   "cell_type": "code",
   "execution_count": null,
   "metadata": {},
   "outputs": [],
   "source": [
    "print(not a)"
   ]
  },
  {
   "cell_type": "markdown",
   "metadata": {},
   "source": [
    "## 1-5 Membership Operators"
   ]
  },
  {
   "cell_type": "code",
   "execution_count": null,
   "metadata": {},
   "outputs": [],
   "source": [
    "a = 5;  b = [1, 2, 3, 5, 6]\n",
    "a in b"
   ]
  },
  {
   "cell_type": "code",
   "execution_count": null,
   "metadata": {},
   "outputs": [],
   "source": [
    "print(a not in b)"
   ]
  },
  {
   "cell_type": "markdown",
   "metadata": {},
   "source": [
    "## 1-6 Bitwise Operators"
   ]
  },
  {
   "cell_type": "markdown",
   "metadata": {},
   "source": [
    "><img src=\"./image/binary01.png\"  style='width:90%'>"
   ]
  },
  {
   "cell_type": "code",
   "execution_count": null,
   "metadata": {},
   "outputs": [],
   "source": [
    "a = 10;  b = 4\n",
    "print(f'{a:b}\\n{4:4b}')\n",
    "print(a & b)  # and\n",
    "print(a | b)  # or\n",
    "print(a ^ b)  # XOR"
   ]
  },
  {
   "cell_type": "code",
   "execution_count": null,
   "metadata": {},
   "outputs": [],
   "source": [
    "a = 10\n",
    "print(f'{10:b}\\n'\n",
    "      f'{a >> 2}\\n'\n",
    "      f'bin : {a >> 2:b}\\n'\n",
    "      f'{a << 2}\\n'\n",
    "      f'bin : {a << 2:b}') "
   ]
  },
  {
   "cell_type": "markdown",
   "metadata": {},
   "source": [
    "## 1-7 Integer, float, complex"
   ]
  },
  {
   "cell_type": "code",
   "execution_count": null,
   "metadata": {},
   "outputs": [],
   "source": [
    "a = 5; b = 3.1; c = 3.0; d = 1+2j; f = 3.1232e3\n",
    "\n",
    "print(f'a = {a, type(a)}\\n'\n",
    "      f'b = {b, type(b)}\\n'\n",
    "      f'c = {c, type(c)}\\n'\n",
    "      f'd = {d, type(d)}\\n'\n",
    "      f'f = {f, type(f)}')"
   ]
  },
  {
   "cell_type": "code",
   "execution_count": null,
   "metadata": {},
   "outputs": [],
   "source": [
    "print('int(12.6)\\t:', int(12.6))\n",
    "print('str(12.6)\\t:', str(12.6))\n",
    "print('float(12)\\t:', float(12))\n",
    "print('complex(12)\\t:', complex(12))\n",
    "print('complex(12,3)\\t:', complex(12, 3))\n",
    "str(12.6)"
   ]
  },
  {
   "cell_type": "markdown",
   "metadata": {},
   "source": [
    "## 1-8 Boolean "
   ]
  },
  {
   "cell_type": "code",
   "execution_count": null,
   "metadata": {},
   "outputs": [],
   "source": [
    "print(5 > 3)\n",
    "print(5 != 3)\n",
    "print(5 < 3)\n",
    "print(bool(5%3))\n",
    "print(bool([]))"
   ]
  },
  {
   "cell_type": "markdown",
   "metadata": {},
   "source": [
    "## 1-9 String"
   ]
  },
  {
   "cell_type": "markdown",
   "metadata": {},
   "source": [
    "><img src=\"./image/strIndex01.png\"  style='width:90%'>"
   ]
  },
  {
   "cell_type": "markdown",
   "metadata": {},
   "source": [
    ">### 切片 (slice) 格式為 `[起點 : 終點 : 間隔]` 不含`終點`"
   ]
  },
  {
   "cell_type": "code",
   "execution_count": null,
   "metadata": {},
   "outputs": [],
   "source": [
    "## this is a string\n",
    "a = 'hello'\n",
    "print(a[0], a[1], a[2], a[3], a[4])\n",
    "print('='*12)\n",
    "print(a[-1], a[-2], a[-3], a[-4], a[-5])"
   ]
  },
  {
   "cell_type": "code",
   "execution_count": null,
   "metadata": {},
   "outputs": [],
   "source": [
    "print(a[2:])\n",
    "print(a[2::2])\n",
    "print(a*2)\n",
    "print(len(a))\n",
    "print(a[::-1])  # reverse"
   ]
  },
  {
   "cell_type": "code",
   "execution_count": null,
   "metadata": {},
   "outputs": [],
   "source": [
    "b = 'Python'\n",
    "print(a+' '+b)"
   ]
  },
  {
   "cell_type": "code",
   "execution_count": null,
   "metadata": {},
   "outputs": [],
   "source": [
    "l = 'Hello, I am Python!'\n",
    "print(f'l\\t\\t\\t: {l}')\n",
    "print(f'upper\\t\\t\\t: {l.upper()}')\n",
    "print(f'lower\\t\\t\\t: {l.lower()}')\n",
    "print(f'capitalize\\t\\t: {l.capitalize()}')\n",
    "print(f'title\\t\\t\\t: {l.title()}')\n",
    "print(f'swapcase\\t\\t: {l.swapcase()}\\n')  # upper -> lower,  lower -> upper\n",
    "\n",
    "print(f'endswith(\"on!\")\\t\\t: {l.endswith(\"on!\")}')        #True\n",
    "print(f'startswith(\"the\")\\t: {l.startswith(\"the\")}')    #False"
   ]
  },
  {
   "cell_type": "code",
   "execution_count": null,
   "metadata": {},
   "outputs": [],
   "source": [
    "my_string = 'Hello, I am Python!'\n",
    "\n",
    "print(my_string.split(' '))\n",
    "print(' '.join(my_string.split(' ')))"
   ]
  },
  {
   "cell_type": "code",
   "execution_count": null,
   "metadata": {},
   "outputs": [],
   "source": [
    "my_string = '   Hello, I am Python!'\n",
    "print(my_string,'\\n', my_string.strip())"
   ]
  },
  {
   "cell_type": "markdown",
   "metadata": {},
   "source": [
    "---"
   ]
  },
  {
   "cell_type": "markdown",
   "metadata": {},
   "source": [
    "<div style=\"page-break-after: always\"></div>\n",
    "\n",
    "## 1-10 List 串列"
   ]
  },
  {
   "cell_type": "markdown",
   "metadata": {},
   "source": [
    ">### `list 與 array 不同`"
   ]
  },
  {
   "cell_type": "code",
   "execution_count": null,
   "metadata": {},
   "outputs": [],
   "source": [
    "## this is a list\n",
    "a = ['apple', 10.4, 1-3j]\n",
    "b = [1, 3, -2, 8, 9, -10]\n",
    "print(a[0])\n",
    "print(a[1])\n",
    "print(a[-1])\n",
    "print(b*3)"
   ]
  },
  {
   "cell_type": "markdown",
   "metadata": {},
   "source": [
    ">### index\n",
    "><img src=\"./image/list.png\"  style='width:90%'>"
   ]
  },
  {
   "cell_type": "markdown",
   "metadata": {},
   "source": [
    ">## index, slice"
   ]
  },
  {
   "cell_type": "code",
   "execution_count": null,
   "metadata": {},
   "outputs": [],
   "source": [
    "names=['fraser', 'grace', 'john', 'jess', 'jack', 23.5, 2019]\n",
    "print('names\\t\\t\\t\\t=', names)\n",
    "print('names[0]\\t\\t\\t:', names[0])\n",
    "print('names[0][0]\\t\\t\\t:', names[0][0], '\\n')\n",
    "\n",
    "print('names[5]\\t\\t\\t:', names[5])\n",
    "print('names[-1]\\t\\t\\t:', names[-1],'\\n')\n",
    "\n",
    "print('names[1:5]\\t\\t\\t:', names[1:5])\n",
    "print('names[1:6:2]\\t\\t\\t:', (names[1:6:2]),'\\n')\n",
    "\n",
    "names[2]='Kevin'\n",
    "print(\"names[2]='Kevin'\\t\\t:\", names)             # 修改\n",
    "\n",
    "names[-1:]=[2000, 23.5]                           # 一次改兩筆資料\n",
    "print('names[-1:]=[2000, 23.5]\\t\\t:', names)"
   ]
  },
  {
   "cell_type": "code",
   "execution_count": null,
   "metadata": {},
   "outputs": [],
   "source": [
    "[1, 2, 3] + [4, 5, 6]"
   ]
  },
  {
   "cell_type": "code",
   "execution_count": null,
   "metadata": {},
   "outputs": [],
   "source": [
    "x, y, z=20, 10, 30\n",
    "lst=[x, y, z]\n",
    "\n",
    "print('lst\\t\\t\\t\\t=', lst)\n",
    "print('max(lst)\\t\\t\\t:', max(lst))\n",
    "print('min(lst)\\t\\t\\t:', min(lst))\n",
    "print('sum(lst)\\t\\t\\t:', sum(lst))\n",
    "print('sorted(lst)\\t\\t\\t:', sorted(lst))\n",
    "print('sorted(lst, reverse=True)\\t:', sorted(lst, reverse=True))"
   ]
  },
  {
   "cell_type": "code",
   "execution_count": null,
   "metadata": {},
   "outputs": [],
   "source": [
    "x = ['apple', 10.4, 1-3j]\n",
    "y = [1, 3, -2, 8, 9, -10]\n",
    "y.append(20);     print(y)\n",
    "y.remove(3);      print(y)\n",
    "y.pop();          print(y)\n",
    "y.insert(1, 100); print(y)\n",
    "y.reverse();      print(y)\n",
    "y.sort();         print(y)\n",
    "print(y.count(-2))"
   ]
  },
  {
   "cell_type": "code",
   "execution_count": null,
   "metadata": {},
   "outputs": [],
   "source": [
    "c = [1, 30, -2, -7, 9, -10]\n",
    "del c[2]\n",
    "print(c)"
   ]
  },
  {
   "cell_type": "code",
   "execution_count": null,
   "metadata": {},
   "outputs": [],
   "source": [
    "c = ['isaac', 'judy', 'amy']\n",
    "c_string = ' @ '.join(c)\n",
    "print(c_string)"
   ]
  },
  {
   "cell_type": "markdown",
   "metadata": {},
   "source": [
    "## 1-11 Dictionary"
   ]
  },
  {
   "cell_type": "code",
   "execution_count": null,
   "metadata": {},
   "outputs": [],
   "source": [
    "a = {'Robert':100, 'judy':60, 'Andy':80}\n",
    "print(a['Robert'])\n",
    "print(a.values())\n",
    "print(a.keys())"
   ]
  },
  {
   "cell_type": "code",
   "execution_count": null,
   "metadata": {},
   "outputs": [],
   "source": [
    "new_key = {'joe':30, 'amy':16, 'Andy':90}   # Andy 80 -> 90\n",
    "a.update(new_key)\n",
    "print(a)"
   ]
  },
  {
   "cell_type": "code",
   "execution_count": null,
   "metadata": {},
   "outputs": [],
   "source": [
    "a.pop('amy', None)\n",
    "print(a)"
   ]
  },
  {
   "cell_type": "markdown",
   "metadata": {},
   "source": [
    "## 1-12 程式的流程控制-條件判斷 if...else"
   ]
  },
  {
   "cell_type": "code",
   "execution_count": null,
   "metadata": {},
   "outputs": [],
   "source": [
    "if 0:\n",
    "    print('True')\n",
    "else:\n",
    "    print('False')"
   ]
  },
  {
   "cell_type": "code",
   "execution_count": null,
   "metadata": {},
   "outputs": [],
   "source": [
    "x = 4\n",
    "if x == 3:\n",
    "    print ('x = 3')\n",
    "else :\n",
    "    print ('x != 3')"
   ]
  },
  {
   "cell_type": "code",
   "execution_count": null,
   "metadata": {},
   "outputs": [],
   "source": [
    "# 以下區塊會產生錯誤\n",
    "if True:\n",
    "    print('Answer')\n",
    "    print('True')\n",
    "else:\n",
    "    print('Answer')\n",
    "   print('False')"
   ]
  },
  {
   "cell_type": "code",
   "execution_count": null,
   "metadata": {},
   "outputs": [],
   "source": [
    "s = 60\n",
    "\n",
    "if s >= 60:\n",
    "    print('Pass!')\n",
    "else:\n",
    "    print('Not pass!')"
   ]
  },
  {
   "cell_type": "code",
   "execution_count": null,
   "metadata": {},
   "outputs": [],
   "source": [
    "a = 2\n",
    "if a==1:\n",
    "    print('a is 1')\n",
    "print('a is a number')  # 這個 print在 if 之外"
   ]
  },
  {
   "cell_type": "code",
   "execution_count": null,
   "metadata": {},
   "outputs": [],
   "source": [
    "lst = [11, 22]\n",
    "lst.clear()  # [], False, [] == False\n",
    "\n",
    "print('lst\\t\\t\\t= ', lst)  # empty list\n",
    "print('False == bool(lst))\\t:', False == bool(lst))\n",
    "print('False == bool(None)\\t:', False == bool(None))\n",
    "print('False == 0\\t\\t:', False == 0)"
   ]
  },
  {
   "cell_type": "code",
   "execution_count": null,
   "metadata": {},
   "outputs": [],
   "source": [
    "print('False == 0.0\\t\\t:', False == 0.0)\n",
    "print('False == bool(())\\t:', False == bool(()))  # empty tuple\n",
    "print('False == bool({})\\t:', False == bool({}))  # empty dictionary"
   ]
  },
  {
   "cell_type": "code",
   "execution_count": null,
   "metadata": {},
   "outputs": [],
   "source": [
    "a = ()  # same if a :\n",
    "\n",
    "if a :  # try [], {}, None, False, ''\n",
    "    print ('True')\n",
    "else :\n",
    "    print('None, False')"
   ]
  },
  {
   "cell_type": "code",
   "execution_count": null,
   "metadata": {},
   "outputs": [],
   "source": [
    "var1 =  100\n",
    "if var1: \n",
    "    print('True expr 1 : ', var1) \n",
    "print('var1 Finished!')\n",
    "# -------------------------------    \n",
    "var2 = 0 \n",
    "if var2: \n",
    "    print('True expr 2 : ', var2) \n",
    "    \n",
    "print('var2 Finished!')"
   ]
  },
  {
   "cell_type": "markdown",
   "metadata": {},
   "source": [
    "### if ... else ..."
   ]
  },
  {
   "cell_type": "code",
   "execution_count": null,
   "metadata": {},
   "outputs": [],
   "source": [
    "amt = 900\n",
    "if amt < 1000:\n",
    "    discount = amt * 0.05\n",
    "    print('Discount', discount)\n",
    "else:\n",
    "    discount = amt * 0.10\n",
    "    print('Discount', discount)"
   ]
  },
  {
   "cell_type": "markdown",
   "metadata": {},
   "source": [
    "### if ... elif ... else"
   ]
  },
  {
   "cell_type": "code",
   "execution_count": null,
   "metadata": {},
   "outputs": [],
   "source": [
    "amt = int(input('Enter amount: '))\n",
    "\n",
    "if amt < 1000:\n",
    "    discount = amt * 0.05\n",
    "    print('Discount:', discount)\n",
    "elif amt < 5000:\n",
    "    discount = amt * 0.10\n",
    "    print('Discount:', discount)\n",
    "elif amt < 10000:\n",
    "    discount = amt * 0.15\n",
    "    print('Discount:', discount)\n",
    "else:\n",
    "    discount = amt * 0.20\n",
    "    print('Discount:', discount)\n",
    "\n",
    "print('Net price:', amt - discount)"
   ]
  },
  {
   "cell_type": "markdown",
   "metadata": {},
   "source": [
    "## 1-13 for loop\n",
    "> `迭代` :　是程式中對一組指令（或一定步驟）的重複。它既可以被用作通用的術語（與「重複」同義）"
   ]
  },
  {
   "cell_type": "code",
   "execution_count": null,
   "metadata": {},
   "outputs": [],
   "source": [
    "for i in [6, 5, 15, 3, 2, 10]:\n",
    "    print(i)"
   ]
  },
  {
   "cell_type": "code",
   "execution_count": null,
   "metadata": {},
   "outputs": [],
   "source": [
    "for i in range(2, 100, 10) :\n",
    "    print (i)"
   ]
  },
  {
   "cell_type": "code",
   "execution_count": null,
   "metadata": {},
   "outputs": [],
   "source": [
    "for i in range(1, 10, 2):\n",
    "    print(f\"{'a'*i:^20s}\")"
   ]
  },
  {
   "cell_type": "code",
   "execution_count": null,
   "metadata": {},
   "outputs": [],
   "source": [
    "for i in range (1,10):\n",
    "    if  i < 5 :\n",
    "        print('if i < 5', i)"
   ]
  },
  {
   "cell_type": "code",
   "execution_count": null,
   "metadata": {},
   "outputs": [],
   "source": [
    "for i in range(1, 10):\n",
    "    for j in range(1, 10):\n",
    "#         print(f'i: {i}, j: {j}')\n",
    "        print(f'{i:1d}*{j:1d} = {i*j:2d}', end='   ')\n",
    "    print()"
   ]
  },
  {
   "cell_type": "markdown",
   "metadata": {},
   "source": [
    "## 1-14 函數 (Function) 設計\n",
    "> 使用函數 / 函式的好處 :\n",
    "> * 軟體重複使用\n",
    "> * 功能切割，模組化，結構化\n",
    "> * 簡化程式提高程式的可讀性\n",
    "> * 易於維護及管理\n",
    "> * 讓程式偵錯更容易\n",
    "\n",
    "><img src=\"./image/func.png\"  style='width:80%'>"
   ]
  },
  {
   "cell_type": "code",
   "execution_count": null,
   "metadata": {},
   "outputs": [],
   "source": [
    "def hi():\n",
    "    ''' it is a hi() function '''\n",
    "    print('hi')\n",
    "\n",
    "# 呼叫 function\n",
    "hi()"
   ]
  },
  {
   "cell_type": "code",
   "execution_count": null,
   "metadata": {},
   "outputs": [],
   "source": [
    "hi?"
   ]
  },
  {
   "cell_type": "code",
   "execution_count": null,
   "metadata": {},
   "outputs": [],
   "source": [
    "# 位置引數\n",
    "# Function definition\n",
    "def area(length, width):  # parameter\n",
    "    return length*width\n",
    "\n",
    "# Call function\n",
    "result = area(15, 8)\n",
    "print('Area =', result)\n",
    "\n",
    "# result = area(8)  # error. argument missing"
   ]
  },
  {
   "cell_type": "code",
   "execution_count": null,
   "metadata": {},
   "outputs": [],
   "source": [
    "# 函式的參數\n",
    "def fun(s1, s2='world', count=1):\n",
    "    s = s1+' ' + s2+ '  '\n",
    "    print(s * count)\n",
    "\n",
    "fun('Hello')\n",
    "fun('Hi', 'Jack')\n",
    "fun('Hi', 'Jack', 2)\n",
    "fun('Hi', count=3)\n",
    "fun('Hi', count=3, s2='sky')"
   ]
  },
  {
   "cell_type": "markdown",
   "metadata": {},
   "source": [
    "---"
   ]
  },
  {
   "cell_type": "markdown",
   "metadata": {},
   "source": [
    "<div style=\"page-break-after: always\"></div>\n",
    "\n",
    "# Mod. 02 NumPy基礎：陣列和向量化計算"
   ]
  },
  {
   "cell_type": "markdown",
   "metadata": {
    "tags": []
   },
   "source": [
    "> 資料科學（英語：data science）是一門利用資料學習知識的學科，其目標是通過從資料中`提取出有價值的部分`來生產資料產品。它結合了諸多領域中的理論和技術，包括應用`數學、統計、圖型識別、機器學習、資料視覺化、資料倉儲以及高效能計算`。資料科學通過運用各種相關的資料來幫助非專業人士理解問題。 資料科學技術可以幫助我們如何正確的處理資料並協助我們在生物學、社會科學、人類學等領域進行研究調研。此外，資料科學也對商業競爭有極大的幫助。--- wikipedia\n",
    "<!-- ><img src=\"./img/stepbystep.jpg\"  style='height:550px; width:500px'> -->\n",
    "><img src=\"./image/Top10DataScienceSkills.jpeg\"  style='width:90%'>"
   ]
  },
  {
   "cell_type": "markdown",
   "metadata": {},
   "source": [
    "> ndarray (numpy data array) 在儲存數據的時候，數據與數據的地址都是`連續的`，這樣就給使得批次運算元組元素時`速度更快`。\n",
    "\n",
    "> * ndarray 在儲存元素時記憶體可以連續，而 python 原生 list 就只能通過定址方式找到下一個元素，這雖然也導致了在通用效能方面 Numpy 的 ndarray 不及 Python 原生list，但在科學計算中，Numpy 的 ndarray 就可以`省掉很多回圈語句`，程式碼使用方面比 Python 原生 list 簡單的多。\n",
    "\n",
    "> * ndarray `支援並行化運算（向量化運算）`numpy 內建了並行運算功能，當系統有多個核心時，做某種計算時，numpy 會自動做`並行計算`\n",
    "\n",
    "> * 效率遠高於純 Python 程式碼, Numpy 底層使用 C 語言編寫，內部解除了GIL（全域性直譯器鎖），其對陣列的操作速度不受 Python 直譯器的限制，所以，`其效率遠高於純 Python 程式碼`。\n",
    "\n",
    "><img src=\"./image/listArray.png\"  style='width:90%'>"
   ]
  },
  {
   "cell_type": "code",
   "execution_count": null,
   "metadata": {
    "collapsed": false,
    "editable": true,
    "jupyter": {
     "outputs_hidden": false
    }
   },
   "outputs": [],
   "source": [
    "import numpy as np\n",
    "import matplotlib.pyplot as plt"
   ]
  },
  {
   "cell_type": "markdown",
   "metadata": {
    "editable": true
   },
   "source": [
    "## 2-1 多排陣列物件 a Multidimensional Array Object"
   ]
  },
  {
   "cell_type": "code",
   "execution_count": null,
   "metadata": {
    "collapsed": false,
    "editable": true,
    "jupyter": {
     "outputs_hidden": false
    }
   },
   "outputs": [],
   "source": [
    "# Generate some random data\n",
    "# data = np.random.randn(6)       # (6,) array\n",
    "data = np.array([[1,2,3], \n",
    "                 [4,5,6], [7,8,9]])  # 3*3 array normal distribution\n",
    "print(f'data =\\n{data}\\n\\n'\n",
    "      f'type(data) : {type(data)}\\n\\n'\n",
    "      f'data * 10 =\\n{data*10}\\n\\n'     # 和 list 不同\n",
    "      f'data + data =\\n {data+data}')  # 和 list [ ] + [ ] 不同"
   ]
  },
  {
   "cell_type": "markdown",
   "metadata": {},
   "source": [
    "### Array 1d, 2d ....\n",
    "><img src=\"./image/arrays.jpeg\"  style='width:90%'>"
   ]
  },
  {
   "cell_type": "markdown",
   "metadata": {},
   "source": [
    "### shape(4, ) != shape(4, 1)"
   ]
  },
  {
   "cell_type": "code",
   "execution_count": null,
   "metadata": {},
   "outputs": [],
   "source": [
    "a = np.array([1,2,3,4])\n",
    "print(f'a\\t\\t\\t: {a}\\n'\n",
    "      f'a.shape\\t\\t\\t: {a.shape}\\n\\n'\n",
    "      f'a.reshape(4,1) :\\n{a.reshape(4,1)}\\n\\n'\n",
    "      f'.reshape(4,1).shape\\t: {a.reshape(4,1).shape}')"
   ]
  },
  {
   "cell_type": "markdown",
   "metadata": {},
   "source": [
    "<div style=\"page-break-after: always\"></div>\n",
    "\n",
    "## 2-2 NumPy 陣列的基本屬性\n",
    "\n",
    "|屬性名字\t       |屬性解釋                   |\n",
    "|-----------------|--------------------------|\n",
    "|ndarray.shape\t  |陣列維度的元組             |\n",
    "|ndarray.ndim\t  |陣列維數                   |\n",
    "|ndarray.size\t  |陣列中的元素數量           |\n",
    "|ndarray.itemsize |一個數組元素的長度（位元組 byte）float64 itemsize值為 8。`等同於ndarray.dtype.itemsize`。|\n",
    "|ndarray.dtype\t  |陣列元素的型別             |"
   ]
  },
  {
   "cell_type": "code",
   "execution_count": null,
   "metadata": {
    "collapsed": false,
    "editable": true,
    "jupyter": {
     "outputs_hidden": false
    }
   },
   "outputs": [],
   "source": [
    "data = np.random.randn(2, 3)  # 2*3 array, normal dist. mu=0, stdev=1\n",
    "print(f'data =\\n{data}\\n\\n'\n",
    "      f'data.shape\\t: {data.shape}\\n'\n",
    "      f'data.dtype\\t: {data.dtype}')"
   ]
  },
  {
   "cell_type": "markdown",
   "metadata": {},
   "source": [
    "### np.zeros, ones, full, eye ...\n",
    "> <img src=\"./image/array_gen.jpg\"  style='width:90%'></img>"
   ]
  },
  {
   "cell_type": "code",
   "execution_count": null,
   "metadata": {},
   "outputs": [],
   "source": [
    "import numpy as np\n",
    "arr = np.zeros(10)            # same as arr = np.zeros((10,))\n",
    "print(f'arr : {arr}\\n')\n",
    "\n",
    "arr = np.zeros((5, 5));    print(f'zeros :\\n{arr}\\n')\n",
    "arr = np.ones(5);          print(f'ones :\\n{arr}\\n') # same as arr = np.ones((10,))\n",
    "arr = np.ones((5, 5));     print(f'ones :\\n{arr}\\n')\n",
    "arr = np.full((5, 5), 7);  print(f'full :\\n{arr}\\n')\n",
    "\n",
    "# note : eye, k=0, k=1, k=-1....\n",
    "arr = np.eye(5, k=-1);     print(f'eye :\\n{arr}\\n')   # try k=-1, k=2 \n",
    "arr = np.diag((1,2,3,4,5));  print(f'diag :\\n{arr}\\n')"
   ]
  },
  {
   "cell_type": "markdown",
   "metadata": {
    "editable": true
   },
   "source": [
    "<div style=\"page-break-after: always\"></div>\n",
    "\n",
    "## 2-3 Data Types for ndarrays\n",
    "|名稱          |描述                                              |簡寫|\n",
    "|--------------|-------------------------------------------------|----|\n",
    "|np.bool\t   |用一個位元組儲存的布爾型別（True或False）           |'b' |\n",
    "|np.int8\t   |一個位元組大小，-128 至 127\t                      |'i' |\n",
    "|np.int16\t   |整數，-32768 至 32767\t                          |'i2'|\n",
    "|`np.int32`    |整數，-2^31​ 至 2^32 -1\t                          |'i4'|\n",
    "|np.int64\t   |整數，-2^63 至 2^63 - 1\t                          |'i8'|\n",
    "|`np.uint8`    |無符號整數，0 至 255\t                            |'u' |\n",
    "|np.uint16\t   |無符號整數，0 至 65535\t                            |'u2'|\n",
    "|np.uint32\t   |無符號整數，0 至 2^32 - 1\t                        |'u4'|\n",
    "|np.uint64\t   |無符號整數，0 至 2^64 - 1\t                        |'u8'|\n",
    "|np.float16\t   |半精度浮點數：16位元，正負號1位，指數5位，精度10位    |'f2'|\n",
    "|np.float32    |單精度浮點數：32位元，正負號1位，指數8位元，精度23位  |'f4'|\n",
    "|`np.float64`  |雙精度浮點數：64位元，正負號1位，指數11位，精度52位   |'f8'|\n",
    "|np.complex64  |複數，分別用兩個32位元浮點數表示實部和虛部            |'c8'|\n",
    "|np.complex128 |複數，分別用兩個64位元浮點數表示實部和虛部            |'c16'|\n",
    "|`np.object_`  |python物件\t                                     |'O' |\n",
    "|np.string_\t   |字串\t                                             |'S' |\n",
    "|np.unicode_   |unicode型別                                        |'U' |"
   ]
  },
  {
   "cell_type": "markdown",
   "metadata": {},
   "source": [
    "---"
   ]
  },
  {
   "cell_type": "markdown",
   "metadata": {
    "editable": true
   },
   "source": [
    "<div style=\"page-break-after: always\"></div>\n",
    "\n",
    "# Mod 03 指標和切片 Indexing & Slicing\n",
    "> Numpy 中多維陣列的切片操作與 Python 中 `list 的切片操作一樣`，同樣由 start, stop, step 三個部分組成\n",
    "\n",
    "## 3-1 Basic Indexing & Slicing"
   ]
  },
  {
   "cell_type": "markdown",
   "metadata": {},
   "source": [
    "> ### Illustrate the scope of indexing in NumPy\n",
    "> <img src=\"./image/index.jpg\"  style='width:90%'></img>"
   ]
  },
  {
   "cell_type": "markdown",
   "metadata": {},
   "source": [
    "> ### `index : [row, colum]`\n",
    "> ### `slice : [row : row, column : column, ....]`\n",
    "> <img src=\"./image/np_arrays.png\"  style='width:90%'></img>\n",
    "> <img src=\"./image/index_2d.jpg\"  style='width:90%'></img>"
   ]
  },
  {
   "cell_type": "code",
   "execution_count": null,
   "metadata": {
    "collapsed": false,
    "editable": true,
    "jupyter": {
     "outputs_hidden": false
    }
   },
   "outputs": [],
   "source": [
    "import numpy as np\n",
    "arr = np.arange(10)\n",
    "print(f'arr\\t\\t= {arr}\\n'\n",
    "      f'arr[5]\\t\\t= {arr[5]}\\n'\n",
    "      f'arr[5:8]\\t= {arr[5:8]}\\n'\n",
    "      f'arr[5:8:2] \\t= {arr[5:8:2]}')\n",
    "\n",
    "arr[5:8] = 12\n",
    "print(f'arr\\t\\t= {arr}')"
   ]
  },
  {
   "cell_type": "markdown",
   "metadata": {},
   "source": [
    "### axis = 0, axis = 1, axis = ......\n",
    "> <img src=\"./image/axis.jpg\"  style='width:90%'></img>"
   ]
  },
  {
   "cell_type": "markdown",
   "metadata": {},
   "source": [
    "> <img src=\"./image/axis01.jpg\"  style='width:90%'></img>\n",
    "\n",
    "### flatten & ravel"
   ]
  },
  {
   "cell_type": "code",
   "execution_count": null,
   "metadata": {
    "collapsed": false,
    "editable": true,
    "jupyter": {
     "outputs_hidden": false
    }
   },
   "outputs": [],
   "source": [
    "arr2d = np.array([[1, 2, 3], [4, 5, 6], [7, 8, 9]])\n",
    "print(f'arr2d =\\n{arr2d}\\n\\n'\n",
    "      f'arr2d[2]\\t = {arr2d[2]}\\n'\n",
    "      f'arr2d[0][2]\\t = {arr2d[0][2]}\\n'\n",
    "      f'arr2d[0, 2]\\t = { arr2d[0, 2]}')"
   ]
  },
  {
   "cell_type": "markdown",
   "metadata": {},
   "source": [
    "## 3-2 Indexing with slices\n",
    "> <img src=\"./image/np_indexing.png\"  style='width:90%'></img>"
   ]
  },
  {
   "cell_type": "code",
   "execution_count": null,
   "metadata": {
    "collapsed": false,
    "editable": true,
    "jupyter": {
     "outputs_hidden": false
    }
   },
   "outputs": [],
   "source": [
    "arr2d = np.array([[1, 2, 3], [4, 5, 6], [7, 8, 9]])\n",
    "arr2d, arr2d[:2]  # row only"
   ]
  },
  {
   "cell_type": "code",
   "execution_count": null,
   "metadata": {
    "collapsed": false,
    "editable": true,
    "jupyter": {
     "outputs_hidden": false
    }
   },
   "outputs": [],
   "source": [
    "arr2d[:2, 1:]  # row and column"
   ]
  },
  {
   "cell_type": "code",
   "execution_count": null,
   "metadata": {
    "collapsed": false,
    "editable": true,
    "jupyter": {
     "outputs_hidden": false
    }
   },
   "outputs": [],
   "source": [
    "arr2d[1, :2]"
   ]
  },
  {
   "cell_type": "code",
   "execution_count": null,
   "metadata": {
    "collapsed": false,
    "editable": true,
    "jupyter": {
     "outputs_hidden": false
    }
   },
   "outputs": [],
   "source": [
    "arr2d[:2, 2:]"
   ]
  },
  {
   "cell_type": "code",
   "execution_count": null,
   "metadata": {
    "collapsed": false,
    "editable": true,
    "jupyter": {
     "outputs_hidden": false
    }
   },
   "outputs": [],
   "source": [
    "arr2d[:, :1]"
   ]
  },
  {
   "cell_type": "code",
   "execution_count": null,
   "metadata": {
    "collapsed": false,
    "editable": true,
    "jupyter": {
     "outputs_hidden": false
    }
   },
   "outputs": [],
   "source": [
    "arr2d[:2, 1:] = 0\n",
    "arr2d"
   ]
  },
  {
   "cell_type": "code",
   "execution_count": null,
   "metadata": {
    "collapsed": false,
    "editable": true,
    "jupyter": {
     "outputs_hidden": false
    }
   },
   "outputs": [],
   "source": [
    "arr = np.arange(15).reshape((3, 5))\n",
    "arr, arr.T, np.transpose(arr)"
   ]
  },
  {
   "cell_type": "code",
   "execution_count": null,
   "metadata": {
    "collapsed": false,
    "editable": true,
    "jupyter": {
     "outputs_hidden": false
    }
   },
   "outputs": [],
   "source": [
    "arr = np.arange(15).reshape((3, 5))\n",
    "arr, arr.swapaxes(0, 1), arr.T"
   ]
  },
  {
   "cell_type": "code",
   "execution_count": null,
   "metadata": {},
   "outputs": [],
   "source": [
    "arr = np.arange(16).reshape((2,2,4))\n",
    "arr, arr.transpose((1,2,0)), arr.shape, arr.transpose((1,2,0)).shape # (1,2,0) are indexes"
   ]
  },
  {
   "cell_type": "markdown",
   "metadata": {},
   "source": [
    "---\n",
    "<center><h1>--- The End ---</h1></center>"
   ]
  }
 ],
 "metadata": {
  "kernelspec": {
   "display_name": "Python 3 (ipykernel)",
   "language": "python",
   "name": "python3"
  },
  "language_info": {
   "codemirror_mode": {
    "name": "ipython",
    "version": 3
   },
   "file_extension": ".py",
   "mimetype": "text/x-python",
   "name": "python",
   "nbconvert_exporter": "python",
   "pygments_lexer": "ipython3",
   "version": "3.9.13"
  }
 },
 "nbformat": 4,
 "nbformat_minor": 4
}
