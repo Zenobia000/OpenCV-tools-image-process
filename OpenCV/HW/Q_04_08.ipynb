{
 "cells": [
  {
   "cell_type": "markdown",
   "metadata": {},
   "source": [
    "## 練習 04_08\n",
    "> * 將 下列圖片 彩色載入\n",
    "> * 垂直 rotate 90 度, show 出結果\n",
    "> * 再 3x3 高斯濾波器, sigmaX=0.8, sigmaY=0.8, show 出結果<br>\n",
    "> * 再 sobelX, sobelY 後用(0.5, 0.5)的 權重加起來, show 出結果<br>\n",
    "> * 再輪廓偵測外框 (contours) 將找到的輪廓填滿畫在原圖上, show 出結果\n",
    "> * 將上圖中的物件`中心`用圓圈標示出來, 並將`面積`標示於中心旁邊\n",
    "\n",
    "### 必須將上列個各處理後的圖 imshow 出來"
   ]
  },
  {
   "cell_type": "code",
   "execution_count": 1,
   "metadata": {},
   "outputs": [
    {
     "data": {
      "text/plain": [
       "-1"
      ]
     },
     "execution_count": 1,
     "metadata": {},
     "output_type": "execute_result"
    }
   ],
   "source": [
    "import cv2\n",
    "import numpy as np\n",
    "\n",
    "img = cv2.imread('../image/contour.png')\n",
    "\n",
    "# -------- 垂直 rotate 90 度 ------------------------\n",
    "\n",
    "\n",
    "\n",
    "# ----- 3*3 高斯濾波器 -----------------------------\n",
    "\n",
    "\n",
    "\n",
    "# ------- 將前一處理後圖片取 SobelX, SobelY and addWeight(0.5, 0.5)----------\n",
    "\n",
    "\n",
    "\n",
    "\n",
    "# ------- 輪廓偵測 (contours) 將找到的輪廓畫在原圖上 ----------\n",
    "\n",
    "\n",
    "\n",
    "\n",
    "\n",
    "# ------- 將上圖中的物件中心用圓圈標示出來, 並將面積標示於中心旁邊 ---------\n",
    "\n",
    "\n",
    "\n",
    "\n",
    "\n",
    "\n",
    "cv2.waitKey(0)\n",
    "cv2.destroyAllWindows()\n",
    "cv2.waitKey(1)"
   ]
  },
  {
   "cell_type": "code",
   "execution_count": null,
   "metadata": {},
   "outputs": [],
   "source": []
  }
 ],
 "metadata": {
  "kernelspec": {
   "display_name": "Python 3 (ipykernel)",
   "language": "python",
   "name": "python3"
  },
  "language_info": {
   "codemirror_mode": {
    "name": "ipython",
    "version": 3
   },
   "file_extension": ".py",
   "mimetype": "text/x-python",
   "name": "python",
   "nbconvert_exporter": "python",
   "pygments_lexer": "ipython3",
   "version": "3.9.13"
  }
 },
 "nbformat": 4,
 "nbformat_minor": 4
}
