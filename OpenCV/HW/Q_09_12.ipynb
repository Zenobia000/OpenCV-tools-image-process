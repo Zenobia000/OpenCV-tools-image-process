{
 "cells": [
  {
   "cell_type": "markdown",
   "metadata": {},
   "source": [
    "## 練習 09_12\n",
    "> * 將 下列圖片 彩色載入\n",
    "\n",
    "> * 將原圖片取 3x3 Kernel 侵蝕 3 次<br>\n",
    "> * 將原圖片取 3x3 Kernel 膨脹 3 次<br>\n",
    "> * 將原圖片取 3x3 Kernel Open<br>\n",
    "> * 將原圖片取 SIFT 後, 並將它在圖上畫出特徵點<br>\n",
    "> * 將原圖片取 自適應直方圖均衡 後, 並劃出均衡後直方圖, 同時 show 出均衡後的圖片<br>\n",
    "\n",
    "### 必須將上列個各處理後的圖 imshow 出來"
   ]
  },
  {
   "cell_type": "code",
   "execution_count": null,
   "metadata": {},
   "outputs": [],
   "source": [
    "import cv2\n",
    "import numpy as np\n",
    "from matplotlib import pyplot as plt\n",
    "\n",
    "img = cv2.imread('../image/lenaColor.png')\n",
    "cv2.imshow('original', img)\n",
    "cv2.waitKey(0)\n",
    "\n",
    "# ----- 3x3 Kernel 侵蝕 3 次 -----------------------------\n",
    "\n",
    "\n",
    "\n",
    "\n",
    "# ------- 3x3 Kernel 膨脹 3 次 ----------\n",
    "\n",
    "\n",
    "\n",
    "\n",
    "# ------- 3x3 Kernel Open  ----------\n",
    "\n",
    "\n",
    "\n",
    "\n",
    "# ------- 圖片取 SIFT 後, 並將她在圖上畫出特徵點----------\n",
    "\n",
    "\n",
    "\n",
    "\n",
    "# ------- 自適應直方圖均衡 ------------------------------------------\n",
    "\n",
    "\n",
    "\n",
    "\n",
    "\n",
    "cv2.destroyAllWindows()\n",
    "cv2.waitKey(1)"
   ]
  }
 ],
 "metadata": {
  "kernelspec": {
   "display_name": "Python 3 (ipykernel)",
   "language": "python",
   "name": "python3"
  },
  "language_info": {
   "codemirror_mode": {
    "name": "ipython",
    "version": 3
   },
   "file_extension": ".py",
   "mimetype": "text/x-python",
   "name": "python",
   "nbconvert_exporter": "python",
   "pygments_lexer": "ipython3",
   "version": "3.9.13"
  }
 },
 "nbformat": 4,
 "nbformat_minor": 4
}
